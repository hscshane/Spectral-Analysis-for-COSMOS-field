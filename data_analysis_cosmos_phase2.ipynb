{
 "cells": [
  {
   "cell_type": "markdown",
   "metadata": {},
   "source": [
    "# IMPORT"
   ]
  },
  {
   "cell_type": "code",
   "execution_count": 1,
   "metadata": {},
   "outputs": [],
   "source": [
    "import os\n",
    "from os import path\n",
    "from os import listdir\n",
    "import glob\n",
    "import pathlib\n",
    "from astropy.io import fits\n",
    "from operator import itemgetter, attrgetter\n",
    "from shapely.geometry import box, Point \n",
    "from shapely.ops import unary_union\n",
    "import shutil\n",
    "import plotly.graph_objects as go\n",
    "import numpy as np\n",
    "from astropy.io import ascii\n",
    "import math\n",
    "from plotly.offline import plot\n",
    "import plotly.figure_factory as ff\n",
    "from astropy import wcs\n",
    "from astropy.convolution import Gaussian2DKernel, convolve\n",
    "import pandas as pd\n",
    "import matplotlib.pyplot as plt\n",
    "from scipy import stats\n",
    "import seaborn as sns\n",
    "%matplotlib inline\n",
    "np.set_printoptions(precision=2)\n",
    "pd.set_option('display.max_rows', None)"
   ]
  },
  {
   "cell_type": "markdown",
   "metadata": {},
   "source": [
    "# Define REGIONS numbers"
   ]
  },
  {
   "cell_type": "code",
   "execution_count": 4,
   "metadata": {},
   "outputs": [],
   "source": [
    "# bad_regs is defined in individual fitting section\n",
    "regs = [i for i in range(100) if i not in zeros+bad_regs]"
   ]
  },
  {
   "cell_type": "markdown",
   "metadata": {},
   "source": [
    "## define regions with non-zero values"
   ]
  },
  {
   "cell_type": "code",
   "execution_count": 2,
   "metadata": {},
   "outputs": [],
   "source": [
    "#regs=[11, 12, 13, 14, 15, 16, 17, 18, 21, 22, 23, 24, 25, 26, 27, 28, 31, 32, 33, 34, 35, 36, 37, 38, 41, 42, 43, 44, 45, 46, 47, 48, 51, 52, 53, 54, 55, 56, 57, 58, 61, 62, 63, 64, 65, 66, 67, 68, 71, 72, 73, 74, 75, 76, 77, 78, 81, 82, 83, 84, 85, 86, 87, 88]\n",
    "zeros = [0, 9, 80, 90, 91, 97, 99]"
   ]
  },
  {
   "cell_type": "markdown",
   "metadata": {},
   "source": [
    "## define outer ring regions"
   ]
  },
  {
   "cell_type": "code",
   "execution_count": 638,
   "metadata": {},
   "outputs": [],
   "source": [
    "out_regs = [i for i in range(10)] + [i*10 for i in range(1,10)] + [i+90 for i in range(1,10)] + [i*10+9 for i in range(1,10)]"
   ]
  },
  {
   "cell_type": "markdown",
   "metadata": {},
   "source": [
    "## remove bad pointings and bad regs"
   ]
  },
  {
   "cell_type": "code",
   "execution_count": 131,
   "metadata": {},
   "outputs": [],
   "source": [
    "# found bad pointing 0203362301 for reg 23\n",
    "# only has data in 0-100 channels\n",
    "# remove it"
   ]
  },
  {
   "cell_type": "code",
   "execution_count": 600,
   "metadata": {},
   "outputs": [],
   "source": [
    "for reg in regs:\n",
    "    if reg in bad_regs:\n",
    "        regs.remove(reg)"
   ]
  },
  {
   "cell_type": "code",
   "execution_count": 42,
   "metadata": {
    "scrolled": true
   },
   "outputs": [
    {
     "name": "stdout",
     "output_type": "stream",
     "text": [
      "1 : 0203362501\n",
      "4 : 0302352301\n",
      "20 : 0203362001\n",
      "20 : 0203362501\n",
      "31 : 0203362501\n",
      "32 : 0203362501\n",
      "56 : 0203360601\n",
      "59 : 0203361101\n",
      "67 : 0203361101\n",
      "76 : 0302350301\n",
      "95 : 0302350301\n"
     ]
    }
   ],
   "source": [
    "# create a bad names dict\n",
    "bad_names = {k:[] for k in range(100)}\n",
    "bad_regs = []\n",
    "# check if all new backgrnd files are produced\n",
    "dest = '/raid2/dxb/xmm/analysis/COSMOS/sicong/xspec/phase2'\n",
    "for reg in range(100):\n",
    "    DIR = f'/raid2/dxb/xmm/analysis/COSMOS/sicong/xspec/phase1/{reg}'\n",
    "    test_names = [f.split('-')[0] for f in listdir(DIR) if f.startswith('0')]\n",
    "    test_names = sorted(list(set(test_names)))\n",
    "    for name in test_names:\n",
    "        old = f'/{name}-pnS005-back-phs1-reg{reg}.pi'\n",
    "        new = f'/{name}-pnS005-back-phs1-reg{reg}-new.pi'\n",
    "        if path.exists(dest+old) == False:\n",
    "            print(reg,':',name)\n",
    "            bad_names[reg].append(name)\n",
    "bad_names[23].append('0203362301')\n",
    "bad_names[20].append('0302352001') \n",
    "bad_names[20].append('0501170101')\n",
    "bad_names[4].append('0203362301')\n",
    "bad_names[15].append('0203362201')\n",
    "bad_names[15].append('0203362301')\n",
    "bad_names[38].append('0203361101')\n",
    "bad_names[38].append('0203361601')\n",
    "bad_names[39].append('0203361601')\n",
    "bad_names[14].append('0203362301')    \n",
    "bad_names[25].append('0203362301')\n",
    "bad_names[25].append('0203362201')\n",
    "bad_names[25].append('0203361801')\n",
    "bad_names[16].append('0203362201')\n",
    "bad_names[24].append('0203362301')    \n",
    "bad_names[43].append('0203361401')\n",
    "bad_names[43].append('0302353401')\n",
    "bad_names[43].append('0203361301')\n",
    "bad_names[43].append('0302351401')    \n",
    "bad_names[37].append('0203361601')\n",
    "bad_names[37].append('0302351601')\n",
    "bad_names[37].append('0302351701')\n",
    "bad_names[37].append('0203361701')   \n",
    "bad_names[64].append('0203360801')\n",
    "bad_names[64].append('0203360901')  \n",
    "bad_names[83].append('0302350401') \n",
    "bad_names[28].append('0203361601')     \n",
    "bad_names[73].append('0302350401')\n",
    "bad_names[73].append('0302350901')\n",
    "bad_names[73].append('0203360401')\n",
    "bad_names[73].append('0203360901')\n",
    "bad_names[73].append('0302353001')  \n",
    "bad_names[29].append('0302351601')     \n",
    "bad_names[47].append('0203361601')\n",
    "bad_names[47].append('0203361201')\n",
    "bad_names[47].append('0302351201')\n",
    "bad_names[47].append('0203361101') \n",
    "bad_names[89].append('0302350101')  \n",
    "bad_names[78].append('0302350101')\n",
    "bad_names[78].append('0203360101')\n",
    "bad_names[17].append('0203362201')\n",
    "bad_names[48].append('0203361601')  \n",
    "bad_names[27].append('0203361601')\n",
    "bad_names[27].append('0203362201')\n",
    "bad_names[7].append('0203362201')     \n",
    "bad_names[26].append('0203362201')\n",
    "bad_names[26].append('0203361701')\n",
    "bad_names[26].append('0302351701')\n",
    "bad_names[26].append('0302352201')   \n",
    "bad_names[87].append('0302350101')\n",
    "bad_names[87].append('0203360101')    \n",
    "bad_names[74].append('0302350401')\n",
    "bad_names[74].append('0302350301')\n",
    "bad_names[74].append('0203360401')  \n",
    "bad_names[82].append('0302350401')    \n",
    "bad_names[67].append('0203360701')\n",
    "bad_names[67].append('0302350101')\n",
    "bad_names[67].append('0203360101')\n",
    "bad_names[88].append('0302350101') \n",
    "bad_names[79].append('0302350101')\n",
    "bad_names[40].append('0203362001')  \n",
    "bad_names[34].append('0203362301')  \n",
    "bad_names[35].append('0203362301')   \n",
    "bad_names[66].append('0302350701')\n",
    "bad_names[66].append('0203360701')\n",
    "bad_names[66].append('0203360201') \n",
    "bad_names[66].append('0302350201')   \n",
    "bad_names[63].append('0302350401') \n",
    "bad_names[72].append('0302350401')\n",
    "bad_names[77].append('0302350101')\n",
    "bad_names[13].append('0203362301')  \n",
    "bad_names[42].append('0203361501')\n",
    "bad_names[42].append('0302351501')\n",
    "bad_names[85].append('0302350301')\n",
    "bad_names[95].append('0302350201')\n",
    "bad_names[54].append('0203361401')  \n",
    "bad_names[31].append('0203362001')\n",
    "bad_names[31].append('0203361501')\n",
    "bad_names[84].append('0302350401')\n",
    "bad_names[46].append('0203361701')\n",
    "bad_names[71].append('0302350501')  \n",
    "bad_names[41].append('0203362001')\n",
    "bad_names[68].append('0302350101')\n",
    "bad_names[36].append('0203361601')\n",
    "bad_names[65].append('0203360701')   \n",
    "bad_names[57].append('0203360701')\n",
    "bad_names[57].append('0203361201')\n",
    "bad_names[32].append('0203362001')\n",
    "bad_names[86].append('0302353101')\n",
    "bad_names[12].append('0203362501')\n",
    "bad_names[52].append('0203361501')  \n",
    "bad_names[22].append('0203362501')\n",
    "bad_names[22].append('0203362001')\n",
    "\n",
    "bad_regs.append(5)\n",
    "bad_regs.append(10)\n",
    "bad_regs.append(96)\n",
    "bad_regs.append(20)\n",
    "bad_regs.append(2)\n",
    "bad_regs.append(89)\n",
    "bad_regs.append(93)\n",
    "bad_regs.append(4)\n",
    "bad_regs.append(97)"
   ]
  },
  {
   "cell_type": "code",
   "execution_count": 43,
   "metadata": {
    "scrolled": true
   },
   "outputs": [
    {
     "name": "stdout",
     "output_type": "stream",
     "text": [
      "bad_names = {0: [], 1: ['0203362501'], 2: [], 3: [], 4: ['0302352301', '0203362301'], 5: [], 6: [], 7: ['0203362201'], 8: [], 9: [], 10: [], 11: [], 12: ['0203362501'], 13: ['0203362301'], 14: ['0203362301'], 15: ['0203362201', '0203362301'], 16: ['0203362201'], 17: ['0203362201'], 18: [], 19: [], 20: ['0203362001', '0203362501', '0302352001', '0501170101'], 21: [], 22: ['0203362501', '0203362001'], 23: ['0203362301'], 24: ['0203362301'], 25: ['0203362301', '0203362201', '0203361801'], 26: ['0203362201', '0203361701', '0302351701', '0302352201'], 27: ['0203361601', '0203362201'], 28: ['0203361601'], 29: ['0302351601'], 30: [], 31: ['0203362501', '0203362001', '0203361501'], 32: ['0203362501', '0203362001'], 33: [], 34: ['0203362301'], 35: ['0203362301'], 36: ['0203361601'], 37: ['0203361601', '0302351601', '0302351701', '0203361701'], 38: ['0203361101', '0203361601'], 39: ['0203361601'], 40: ['0203362001'], 41: ['0203362001'], 42: ['0203361501', '0302351501'], 43: ['0203361401', '0302353401', '0203361301', '0302351401'], 44: [], 45: [], 46: ['0203361701'], 47: ['0203361601', '0203361201', '0302351201', '0203361101'], 48: ['0203361601'], 49: [], 50: [], 51: [], 52: ['0203361501'], 53: [], 54: ['0203361401'], 55: [], 56: ['0203360601'], 57: ['0203360701', '0203361201'], 58: [], 59: ['0203361101'], 60: [], 61: [], 62: [], 63: ['0302350401'], 64: ['0203360801', '0203360901'], 65: ['0203360701'], 66: ['0302350701', '0203360701', '0203360201', '0302350201'], 67: ['0203361101', '0203360701', '0302350101', '0203360101'], 68: ['0302350101'], 69: [], 70: [], 71: ['0302350501'], 72: ['0302350401'], 73: ['0302350401', '0302350901', '0203360401', '0203360901', '0302353001'], 74: ['0302350401', '0302350301', '0203360401'], 75: [], 76: ['0302350301'], 77: ['0302350101'], 78: ['0302350101', '0203360101'], 79: ['0302350101'], 80: [], 81: [], 82: ['0302350401'], 83: ['0302350401'], 84: ['0302350401'], 85: ['0302350301'], 86: ['0302353101'], 87: ['0302350101', '0203360101'], 88: ['0302350101'], 89: ['0302350101'], 90: [], 91: [], 92: [], 93: [], 94: [], 95: ['0302350301', '0302350201'], 96: [], 97: [], 98: [], 99: []}\n"
     ]
    }
   ],
   "source": [
    "print('bad_names =',bad_names)"
   ]
  },
  {
   "cell_type": "code",
   "execution_count": 44,
   "metadata": {},
   "outputs": [
    {
     "name": "stdout",
     "output_type": "stream",
     "text": [
      "bad_regs = [5, 10, 96, 20, 2, 89, 93, 4, 97]\n"
     ]
    }
   ],
   "source": [
    "print('bad_regs =',bad_regs)"
   ]
  },
  {
   "cell_type": "code",
   "execution_count": 569,
   "metadata": {},
   "outputs": [],
   "source": [
    "# get the scale factor of areas\n",
    "dest = '/raid2/dxb/xmm/analysis/COSMOS/sicong/xspec/phase2/'\n",
    "df = pd.read_csv('/raid2/dxb/xmm/analysis/COSMOS/sicong/region/phase1/solid_angles.csv')\n",
    "for reg in [22]:\n",
    "    r = 15/60.\n",
    "    DIR = f'/raid2/dxb/xmm/analysis/COSMOS/sicong/xspec/phase1/{reg}'\n",
    "    test_names = [f.split('-')[0] for f in listdir(DIR) if f.startswith('0')]\n",
    "    test_names = sorted(list(set(test_names)))\n",
    "    areas = [df.at[reg,name] for name in test_names if name not in bad_names[reg]]\n",
    "    reg_area = (10/60)**2/3282.8\n",
    "    scales = [area/areas[0] for area in areas]\n",
    "    ratio = areas[0]/reg_area\n",
    "    with open(dest+'scale-reg{}.txt'.format(reg),'wt') as f:\n",
    "        print(*scales,file=f,sep='\\n')\n",
    "    with open(dest+'ratio-reg{}.txt'.format(reg),'wt') as f:\n",
    "        print('{} : {}'.format(test_names[0],ratio),file=f)"
   ]
  },
  {
   "cell_type": "code",
   "execution_count": 598,
   "metadata": {},
   "outputs": [
    {
     "name": "stdout",
     "output_type": "stream",
     "text": [
      "1.0\n",
      "1.0576199188274136\n",
      "0.8105272012281034\n",
      "0.8187075473681998\n",
      "0203361501 : 0.8255729156099333\n"
     ]
    }
   ],
   "source": [
    "%cat /raid2/dxb/xmm/analysis/COSMOS/sicong/xspec/phase2/scale-reg41.txt\n",
    "%cat /raid2/dxb/xmm/analysis/COSMOS/sicong/xspec/phase2/ratio-reg41.txt"
   ]
  },
  {
   "cell_type": "code",
   "execution_count": 135,
   "metadata": {},
   "outputs": [
    {
     "name": "stdout",
     "output_type": "stream",
     "text": [
      "['0203361901', '0203362401', '0302351801', '0302351901', '0302352301', '0302352501', '0302353201', '0302353301', '0501170201']\n"
     ]
    }
   ],
   "source": [
    "# DIR = '/raid2/dxb/xmm/analysis/COSMOS/sicong/xspec/phase1/23'\n",
    "# bad_name = '0203362301'\n",
    "# test_names = [f.split('-')[0] for f in listdir(DIR) if f.startswith('0')]\n",
    "# test_names = sorted(list(set(test_names)))\n",
    "# test_names.remove(bad_name)\n",
    "# print(test_names)"
   ]
  },
  {
   "cell_type": "markdown",
   "metadata": {},
   "source": [
    "# Define Pointing Names"
   ]
  },
  {
   "cell_type": "code",
   "execution_count": 5,
   "metadata": {},
   "outputs": [
    {
     "name": "stdout",
     "output_type": "stream",
     "text": [
      "['0203360101', '0203360201', '0203360301', '0203360401', '0203360501', '0203360601', '0203360701', '0203360801', '0203360901', '0203361001', '0203361101', '0203361201', '0203361301', '0203361401', '0203361501', '0203361601', '0203361701', '0203361801', '0203361901', '0203362001', '0203362101', '0203362201', '0203362301', '0203362401', '0203362501', '0302350101', '0302350201', '0302350301', '0302350401', '0302350501', '0302350601', '0302350701', '0302350801', '0302350901', '0302351001', '0302351101', '0302351201', '0302351301', '0302351401', '0302351501', '0302351601', '0302351701', '0302351801', '0302351901', '0302352001', '0302352201', '0302352301', '0302352401', '0302352501', '0302353001', '0302353101', '0302353201', '0302353301', '0302353401', '0501170101', '0501170201'] 56\n"
     ]
    }
   ],
   "source": [
    "DIR = '/raid2/dxb/xmm/analysis/COSMOS/sicong'\n",
    "names = [name for name in os.listdir(DIR) if '0' in name and len(name) == 10]\n",
    "names.sort()\n",
    "print(names, len(names))"
   ]
  },
  {
   "cell_type": "markdown",
   "metadata": {},
   "source": [
    "## remove bad pointing 0302352401"
   ]
  },
  {
   "cell_type": "code",
   "execution_count": 6,
   "metadata": {},
   "outputs": [],
   "source": [
    "if '0302352401' in names:\n",
    "    names.remove('0302352401')"
   ]
  },
  {
   "cell_type": "code",
   "execution_count": null,
   "metadata": {},
   "outputs": [],
   "source": [
    "for i in range(0,100):\n",
    "    f = f'/raid2/dxb/xmm/analysis/COSMOS/sicong/xspec/phase1/{i}/0302352401-pnS005-obj-os-phs1-reg{i}.pi'\n",
    "    if path.exists(f):\n",
    "        os.remove(f)\n",
    "    f = f'/raid2/dxb/xmm/analysis/COSMOS/sicong/xspec/phase1/{i}/0302352401-pnS005-back-phs1-reg{i}.pi'\n",
    "    if path.exists(f):\n",
    "        os.remove(f)\n",
    "    f = f'/raid2/dxb/xmm/analysis/COSMOS/sicong/xspec/phase1/{i}/0302352401-pnS005-phs1-reg{i}.arf'\n",
    "    if path.exists(f):\n",
    "        os.remove(f)\n",
    "    f = f'/raid2/dxb/xmm/analysis/COSMOS/sicong/xspec/phase1/{i}/0302352401-pnS005-phs1-reg{i}.rmf'\n",
    "    if path.exists(f):\n",
    "        os.remove(f)"
   ]
  },
  {
   "cell_type": "markdown",
   "metadata": {},
   "source": [
    "# Define RA, DEC for REGIONS"
   ]
  },
  {
   "cell_type": "code",
   "execution_count": 5,
   "metadata": {},
   "outputs": [],
   "source": [
    "ras,decs,coords=[],[],[]\n",
    "for name in names:\n",
    "    with fits.open(f'/raid2/dxb/xmm/analysis/COSMOS/sicong/{name}/analysis/pnS005-cheese.fits') as hdu:\n",
    "        header=hdu[0].header\n",
    "        ra=header['CRVAL1']\n",
    "        dec=header['CRVAL2']\n",
    "        ras.append(ra)\n",
    "        decs.append(dec)\n",
    "        coords.append([ra,dec])"
   ]
  },
  {
   "cell_type": "code",
   "execution_count": 6,
   "metadata": {},
   "outputs": [
    {
     "name": "stdout",
     "output_type": "stream",
     "text": [
      "149.601583 150.6315 1.0299169999999833\n",
      "1.68194444 2.75447222 1.0725277799999997\n"
     ]
    }
   ],
   "source": [
    "ras.sort()\n",
    "decs.sort()\n",
    "print(ras[0],ras[-1],ras[-1]-ras[0])\n",
    "print(decs[0],decs[-1],decs[-1]-decs[0])"
   ]
  },
  {
   "cell_type": "code",
   "execution_count": 7,
   "metadata": {
    "scrolled": true
   },
   "outputs": [
    {
     "data": {
      "text/plain": [
       "[[149.601583, 2.48797222],\n",
       " [149.604875, 2.73788889],\n",
       " [149.615, 1.69841667],\n",
       " [149.61675, 2.19905556],\n",
       " [149.617083, 1.68194444],\n",
       " [149.617083, 2.18258333],\n",
       " [149.617333, 1.69988889],\n",
       " [149.617333, 1.93291667],\n",
       " [149.6175, 2.19830556],\n",
       " [149.631917, 1.93186111],\n",
       " [149.633708, 1.93225],\n",
       " [149.634, 2.433],\n",
       " [149.836875, 2.73786111],\n",
       " [149.849833, 1.68319444],\n",
       " [149.849833, 2.1825],\n",
       " [149.850542, 1.68333333],\n",
       " [149.854375, 2.48763889],\n",
       " [149.854458, 1.98819444],\n",
       " [149.85475, 2.73791667],\n",
       " [149.85525, 2.23727778],\n",
       " [149.866667, 2.44911111],\n",
       " [149.866833, 1.68241667],\n",
       " [149.866833, 1.94922222],\n",
       " [150.102417, 1.73758333],\n",
       " [150.103125, 2.25430556],\n",
       " [150.103958, 2.73797222],\n",
       " [150.104167, 2.23755556],\n",
       " [150.10475, 2.48797222],\n",
       " [150.105583, 1.98777778],\n",
       " [150.116583, 1.69791667],\n",
       " [150.116875, 2.69916667],\n",
       " [150.119792, 2.48777778],\n",
       " [150.12075, 1.98797222],\n",
       " [150.132932, 1.93180556],\n",
       " [150.336542, 1.73647222],\n",
       " [150.337167, 2.23838889],\n",
       " [150.348958, 2.68219444],\n",
       " [150.352708, 1.73730556],\n",
       " [150.352833, 2.23777778],\n",
       " [150.352917, 1.9875],\n",
       " [150.353458, 2.50527778],\n",
       " [150.353792, 2.00447222],\n",
       " [150.354792, 2.48869444],\n",
       " [150.365375, 2.68230556],\n",
       " [150.367125, 1.94813889],\n",
       " [150.60225, 2.25416667],\n",
       " [150.602917, 1.73713889],\n",
       " [150.603042, 2.75447222],\n",
       " [150.603208, 1.75516667],\n",
       " [150.603208, 1.9875],\n",
       " [150.604833, 2.48794444],\n",
       " [150.604875, 2.73758333],\n",
       " [150.61525, 2.19894444],\n",
       " [150.616708, 2.18211111],\n",
       " [150.619583, 1.98752778],\n",
       " [150.6315, 2.43163889]]"
      ]
     },
     "execution_count": 7,
     "metadata": {},
     "output_type": "execute_result"
    }
   ],
   "source": [
    "sorted(coords, key=itemgetter(0,1))"
   ]
  },
  {
   "cell_type": "markdown",
   "metadata": {},
   "source": [
    "## Center of Whole Field"
   ]
  },
  {
   "cell_type": "code",
   "execution_count": 59,
   "metadata": {},
   "outputs": [
    {
     "name": "stdout",
     "output_type": "stream",
     "text": [
      "the center is: 150.11654149999998 2.21820833\n"
     ]
    }
   ],
   "source": [
    "print('the center is:',(ras[0]+ras[-1])/2,(decs[0]+decs[-1])/2)"
   ]
  },
  {
   "cell_type": "markdown",
   "metadata": {},
   "source": [
    "## Center of each region"
   ]
  },
  {
   "cell_type": "code",
   "execution_count": 8,
   "metadata": {
    "scrolled": true
   },
   "outputs": [
    {
     "data": {
      "text/plain": [
       "[(149.36654149999998, 1.46820833),\n",
       " (149.36654149999998, 1.6348749966666667),\n",
       " (149.36654149999998, 1.8015416633333332),\n",
       " (149.36654149999998, 1.96820833),\n",
       " (149.36654149999998, 2.1348749966666665),\n",
       " (149.36654149999998, 2.3015416633333334),\n",
       " (149.36654149999998, 2.46820833),\n",
       " (149.36654149999998, 2.6348749966666665),\n",
       " (149.36654149999998, 2.8015416633333334),\n",
       " (149.36654149999998, 2.96820833),\n",
       " (149.53320816666664, 1.46820833),\n",
       " (149.53320816666664, 1.6348749966666667),\n",
       " (149.53320816666664, 1.8015416633333332),\n",
       " (149.53320816666664, 1.96820833),\n",
       " (149.53320816666664, 2.1348749966666665),\n",
       " (149.53320816666664, 2.3015416633333334),\n",
       " (149.53320816666664, 2.46820833),\n",
       " (149.53320816666664, 2.6348749966666665),\n",
       " (149.53320816666664, 2.8015416633333334),\n",
       " (149.53320816666664, 2.96820833),\n",
       " (149.69987483333333, 1.46820833),\n",
       " (149.69987483333333, 1.6348749966666667),\n",
       " (149.69987483333333, 1.8015416633333332),\n",
       " (149.69987483333333, 1.96820833),\n",
       " (149.69987483333333, 2.1348749966666665),\n",
       " (149.69987483333333, 2.3015416633333334),\n",
       " (149.69987483333333, 2.46820833),\n",
       " (149.69987483333333, 2.6348749966666665),\n",
       " (149.69987483333333, 2.8015416633333334),\n",
       " (149.69987483333333, 2.96820833),\n",
       " (149.86654149999998, 1.46820833),\n",
       " (149.86654149999998, 1.6348749966666667),\n",
       " (149.86654149999998, 1.8015416633333332),\n",
       " (149.86654149999998, 1.96820833),\n",
       " (149.86654149999998, 2.1348749966666665),\n",
       " (149.86654149999998, 2.3015416633333334),\n",
       " (149.86654149999998, 2.46820833),\n",
       " (149.86654149999998, 2.6348749966666665),\n",
       " (149.86654149999998, 2.8015416633333334),\n",
       " (149.86654149999998, 2.96820833),\n",
       " (150.03320816666664, 1.46820833),\n",
       " (150.03320816666664, 1.6348749966666667),\n",
       " (150.03320816666664, 1.8015416633333332),\n",
       " (150.03320816666664, 1.96820833),\n",
       " (150.03320816666664, 2.1348749966666665),\n",
       " (150.03320816666664, 2.3015416633333334),\n",
       " (150.03320816666664, 2.46820833),\n",
       " (150.03320816666664, 2.6348749966666665),\n",
       " (150.03320816666664, 2.8015416633333334),\n",
       " (150.03320816666664, 2.96820833),\n",
       " (150.19987483333333, 1.46820833),\n",
       " (150.19987483333333, 1.6348749966666667),\n",
       " (150.19987483333333, 1.8015416633333332),\n",
       " (150.19987483333333, 1.96820833),\n",
       " (150.19987483333333, 2.1348749966666665),\n",
       " (150.19987483333333, 2.3015416633333334),\n",
       " (150.19987483333333, 2.46820833),\n",
       " (150.19987483333333, 2.6348749966666665),\n",
       " (150.19987483333333, 2.8015416633333334),\n",
       " (150.19987483333333, 2.96820833),\n",
       " (150.36654149999998, 1.46820833),\n",
       " (150.36654149999998, 1.6348749966666667),\n",
       " (150.36654149999998, 1.8015416633333332),\n",
       " (150.36654149999998, 1.96820833),\n",
       " (150.36654149999998, 2.1348749966666665),\n",
       " (150.36654149999998, 2.3015416633333334),\n",
       " (150.36654149999998, 2.46820833),\n",
       " (150.36654149999998, 2.6348749966666665),\n",
       " (150.36654149999998, 2.8015416633333334),\n",
       " (150.36654149999998, 2.96820833),\n",
       " (150.53320816666664, 1.46820833),\n",
       " (150.53320816666664, 1.6348749966666667),\n",
       " (150.53320816666664, 1.8015416633333332),\n",
       " (150.53320816666664, 1.96820833),\n",
       " (150.53320816666664, 2.1348749966666665),\n",
       " (150.53320816666664, 2.3015416633333334),\n",
       " (150.53320816666664, 2.46820833),\n",
       " (150.53320816666664, 2.6348749966666665),\n",
       " (150.53320816666664, 2.8015416633333334),\n",
       " (150.53320816666664, 2.96820833),\n",
       " (150.69987483333333, 1.46820833),\n",
       " (150.69987483333333, 1.6348749966666667),\n",
       " (150.69987483333333, 1.8015416633333332),\n",
       " (150.69987483333333, 1.96820833),\n",
       " (150.69987483333333, 2.1348749966666665),\n",
       " (150.69987483333333, 2.3015416633333334),\n",
       " (150.69987483333333, 2.46820833),\n",
       " (150.69987483333333, 2.6348749966666665),\n",
       " (150.69987483333333, 2.8015416633333334),\n",
       " (150.69987483333333, 2.96820833),\n",
       " (150.86654149999998, 1.46820833),\n",
       " (150.86654149999998, 1.6348749966666667),\n",
       " (150.86654149999998, 1.8015416633333332),\n",
       " (150.86654149999998, 1.96820833),\n",
       " (150.86654149999998, 2.1348749966666665),\n",
       " (150.86654149999998, 2.3015416633333334),\n",
       " (150.86654149999998, 2.46820833),\n",
       " (150.86654149999998, 2.6348749966666665),\n",
       " (150.86654149999998, 2.8015416633333334),\n",
       " (150.86654149999998, 2.96820833)]"
      ]
     },
     "execution_count": 8,
     "metadata": {},
     "output_type": "execute_result"
    }
   ],
   "source": [
    "centers=[]\n",
    "ra_up=(ras[0]+ras[-1])/2+45/60.\n",
    "ra_down=(ras[0]+ras[-1])/2-45/60.\n",
    "dec_up=(decs[0]+decs[-1])/2+45/60.\n",
    "dec_down=(decs[0]+decs[-1])/2-45/60.\n",
    "for i in range(0,10):\n",
    "    for j in range(0,10):\n",
    "        centers.append((ra_down+i*10/60.,dec_down+j*10/60.))\n",
    "centers"
   ]
  },
  {
   "cell_type": "code",
   "execution_count": 65,
   "metadata": {},
   "outputs": [],
   "source": [
    "with open('/raid2/dxb/xmm/analysis/COSMOS/sicong/region/phase1/region_radec_phs1.reg','at') as fout:\n",
    "    for center in centers:\n",
    "        print(center[0],center[1],file=fout)"
   ]
  },
  {
   "cell_type": "code",
   "execution_count": 80,
   "metadata": {},
   "outputs": [],
   "source": [
    "# f = open('/raid2/dxb/xmm/analysis/COSMOS/sicong/region/phase1/region_radec_phs1.reg')\n",
    "tempx,tempy=[],[]\n",
    "# lines = f.readlines()\n",
    "# for line in lines:\n",
    "#     tempx.append(line.split()[0])\n",
    "#     tempx.append(line.split()[1])\n",
    "# f.close()\n",
    "for line in open('/raid2/dxb/xmm/analysis/COSMOS/sicong/region/phase1/region_radec_phs1.reg'):\n",
    "    tempx.append(line.split()[0])\n",
    "    tempy.append(line.split()[1])"
   ]
  },
  {
   "cell_type": "markdown",
   "metadata": {},
   "source": [
    "# Define FUNCTIONS"
   ]
  },
  {
   "cell_type": "markdown",
   "metadata": {},
   "source": [
    "## region(cx,cy,hw,i)"
   ]
  },
  {
   "cell_type": "code",
   "execution_count": 7,
   "metadata": {},
   "outputs": [],
   "source": [
    "def region(cx,cy,hw,i):\n",
    "    \"\"\"\n",
    "    This function calculates corner coords of a box region\n",
    "    \n",
    "    Arguments:\n",
    "    * cx: center x coord \n",
    "    * cy: center y coord\n",
    "    * hw: halfwidth \n",
    "    * i: corner number\n",
    "    \"\"\"\n",
    "    assert (0 < i <= 4), \"region number must be in (1-4)\" \n",
    "    if i == 1:\n",
    "        detx = cx - hw\n",
    "        dety = cy + hw\n",
    "    elif i == 2:\n",
    "        detx = cx + hw\n",
    "        dety = cy + hw\n",
    "    elif i == 3:\n",
    "        detx = cx - hw\n",
    "        dety = cy - hw\n",
    "    elif i == 4:\n",
    "        detx = cx + hw\n",
    "        dety = cy - hw\n",
    "    return detx, dety\n",
    "    "
   ]
  },
  {
   "cell_type": "markdown",
   "metadata": {},
   "source": [
    "## get_grids(infile)"
   ]
  },
  {
   "cell_type": "code",
   "execution_count": 8,
   "metadata": {},
   "outputs": [],
   "source": [
    "def get_grids(infile):\n",
    "    \"\"\"Generate grid boxes\n",
    "     \n",
    "     Arguments:\n",
    "    * centers: center ra, dec for grids\n",
    "    * boxes: box coords for grids\n",
    "    \n",
    "    \"\"\"\n",
    "    centers, boxes = [], []\n",
    "    for line in open(infile):\n",
    "        centers.append((float(line.split()[0]),float(line.split()[1])))\n",
    "    for center in centers:\n",
    "        minx = center[0] - 5/60.\n",
    "        miny = center[1] - 5/60.\n",
    "        maxx = center[0] + 5/60.\n",
    "        maxy = center[1] + 5/60.\n",
    "        b = box(minx, miny, maxx, maxy)\n",
    "        boxes.append(b)\n",
    "    return centers, boxes"
   ]
  },
  {
   "cell_type": "markdown",
   "metadata": {},
   "source": [
    "## test_file_exist(infile)"
   ]
  },
  {
   "cell_type": "code",
   "execution_count": 9,
   "metadata": {},
   "outputs": [],
   "source": [
    "def test_file_exist(infile):\n",
    "    \"\"\" Test if file exists or has content\n",
    "     \n",
    "     Arguments:\n",
    "    * flag: 0 = file exists or has content\n",
    "    * infile: file name\n",
    "    \n",
    "    \"\"\"\n",
    "    flag = 0\n",
    "    if path.exists(infile) == False:\n",
    "        with open('/raid2/dxb/xmm/analysis/COSMOS/sicong/scripts/error.log', 'at') as fout:\n",
    "            print(infile, 'does not exists!', file=fout)\n",
    "        flag = 1\n",
    "    else:\n",
    "        with open(infile, 'r') as f:\n",
    "            lines = f.readlines()\n",
    "        if len(lines) == 0:\n",
    "            with open('/raid2/dxb/xmm/analysis/COSMOS/sicong/scripts/error.log', 'at') as fout:\n",
    "                print(infile, 'does not have content!', file=fout)\n",
    "            flag = 1 \n",
    "    return flag"
   ]
  },
  {
   "cell_type": "markdown",
   "metadata": {},
   "source": [
    "## standardize(arr)"
   ]
  },
  {
   "cell_type": "code",
   "execution_count": 10,
   "metadata": {},
   "outputs": [],
   "source": [
    "def standardize(arr):\n",
    "    \"\"\"\n",
    "    This function convert an numpy array to standard units(z-score)\n",
    "    \"\"\"\n",
    "    ave = np.average(arr)\n",
    "    std = np.std(arr)\n",
    "    new_arr=np.zeros(len(arr))\n",
    "    for i in range(len(arr)):\n",
    "        new_ele = (arr[i]-ave)/std\n",
    "        new_arr[i] = new_ele        \n",
    "    return new_arr"
   ]
  },
  {
   "cell_type": "markdown",
   "metadata": {},
   "source": [
    "## heatmap_values(regs,z)"
   ]
  },
  {
   "cell_type": "code",
   "execution_count": 11,
   "metadata": {},
   "outputs": [],
   "source": [
    "def heatmap_values(regs,z):\n",
    "    \"\"\"\n",
    "    This function produces array 'values',\n",
    "    text array 'texts' for heatmap_plot and annotated_heatmap\n",
    "    \n",
    "    Arguments:\n",
    "    * regs: valid regions\n",
    "    * z: array for fitting parameters, such as EM, kT...\n",
    "    \"\"\"\n",
    "    values = np.zeros((10,10))\n",
    "    texts = np.empty((10,10),dtype=object)\n",
    "    for x in range(10):\n",
    "        for y in range(10):\n",
    "            i = x*10+y\n",
    "            if i in regs:\n",
    "                index = regs.index(i)\n",
    "                values[x][y] = z[index]\n",
    "            texts[x][y] = str(int(i))\n",
    "    return values, texts"
   ]
  },
  {
   "cell_type": "markdown",
   "metadata": {},
   "source": [
    "## heatmap_plot\n",
    "## (values,zmin=-1000,zmax=1000,ras,decs,title='heatmap',xaxis='x',yaxis='y')"
   ]
  },
  {
   "cell_type": "code",
   "execution_count": 71,
   "metadata": {},
   "outputs": [],
   "source": [
    "def heatmap_plot(values,ras,decs,title='heatmap',xaxis='x',yaxis='y',zmin=-1000,zmax=1000):\n",
    "    \"\"\"\n",
    "    This function plots heatmap\n",
    "    \n",
    "    Arguments:\n",
    "    * values: data array for heatmap\n",
    "    * zmin: min value to plot\n",
    "    * zmax: max value to plot \n",
    "    * ras: ra array for x-axis ticks\n",
    "    * decs: dec array for y-axis ticks\n",
    "    * title: plot title\n",
    "    * xaxis: x-axis label\n",
    "    * yaxis: y-axis label\n",
    "    \"\"\"\n",
    "    fig = go.Figure(data=go.Heatmap(\n",
    "                        z=values,\n",
    "                        #zmin=zmin,\n",
    "                        #zmax=zmax,\n",
    "                        x=ras,\n",
    "                        y=decs))\n",
    "\n",
    "    fig.update_layout(\n",
    "        autosize=False,\n",
    "        width=1000,\n",
    "        height=1000,\n",
    "        title=title,\n",
    "        #title=\"Reduced Chi Square\",\n",
    "        xaxis_title=xaxis,\n",
    "        yaxis_title=yaxis,\n",
    "        xaxis = dict(\n",
    "            tickmode = 'array',\n",
    "            #tickvals = [50, 150, 250, 350, 450, 550, 650, 750, 850, 950],\n",
    "            tickvals = ras,\n",
    "            ticktext = ras,\n",
    "        ),\n",
    "        yaxis = dict(\n",
    "            tickmode = 'array',\n",
    "            #tickvals = [50, 150, 250, 350, 450, 550, 650, 750, 850, 950],\n",
    "            tickvals = decs,\n",
    "            ticktext = decs,\n",
    "        )\n",
    "    )\n",
    "\n",
    "    plot(fig);"
   ]
  },
  {
   "cell_type": "markdown",
   "metadata": {},
   "source": [
    "## annotated_heatmap\n",
    "## (values,texts,ras,decs,zmin=-1000,zmax=1000,title='heatmap',xaxis='x',yaxis='y')"
   ]
  },
  {
   "cell_type": "code",
   "execution_count": 13,
   "metadata": {},
   "outputs": [],
   "source": [
    "def annotated_heatmap(values,texts,ras,decs,zmin=-1000,zmax=1000,title='heatmap',xaxis='x',yaxis='y'):\n",
    "    \"\"\"\n",
    "    This function plots annotated heatmap\n",
    "    \n",
    "    Arguments:\n",
    "    * values: data array for heatmap\n",
    "    * texts: annotation texts\n",
    "    * zmin: min value to plot\n",
    "    * zmax: max value to plot \n",
    "    * ras: ra array for x-axis ticks\n",
    "    * decs: dec array for y-axis ticks\n",
    "    * title: plot title\n",
    "    * xaxis: x-axis label\n",
    "    * yaxis: y-axis label\n",
    "    \"\"\"\n",
    "    fig = ff.create_annotated_heatmap(z=values,x=ras,y=decs,annotation_text=texts,showscale=True)\n",
    "\n",
    "    fig.update_layout(\n",
    "        autosize=False,\n",
    "        width=1000,\n",
    "        height=1000,\n",
    "        title=title,\n",
    "        xaxis_title=xaxis,\n",
    "        yaxis_title=yaxis,\n",
    "        xaxis = dict(\n",
    "            tickmode = 'array',\n",
    "            #tickvals = [50, 150, 250, 350, 450, 550, 650, 750, 850, 950],\n",
    "            tickvals = ras,\n",
    "            ticktext = ras,\n",
    "        ),\n",
    "        yaxis = dict(\n",
    "            tickmode = 'array',\n",
    "            #tickvals = [50, 150, 250, 350, 450, 550, 650, 750, 850, 950],\n",
    "            tickvals = decs,\n",
    "            ticktext = decs,\n",
    "        )\n",
    "    )\n",
    "\n",
    "    plot(fig);"
   ]
  },
  {
   "cell_type": "markdown",
   "metadata": {},
   "source": [
    "## read_spectra(DIR, name, skiprows=3)"
   ]
  },
  {
   "cell_type": "code",
   "execution_count": 14,
   "metadata": {},
   "outputs": [],
   "source": [
    "def read_spectra(DIR, name, skiprows=3):\n",
    "    \"\"\"\n",
    "    This function reads qdp spectra files\n",
    "    \n",
    "    Arguments:\n",
    "    * DIR: file directory\n",
    "    * name: file name\n",
    "    * skiprows: skip first number of rows\n",
    "    \"\"\"\n",
    "    DIR = DIR\n",
    "    cols = ['x','x_err','y','y_err','back','back_err']\n",
    "    df = pd.read_table(path.join(DIR,name),skiprows=skiprows,names=cols,delimiter=' ')\n",
    "    return df\n",
    "    #df.head(10)"
   ]
  },
  {
   "cell_type": "markdown",
   "metadata": {},
   "source": [
    "## plot_spectra(title,df)"
   ]
  },
  {
   "cell_type": "code",
   "execution_count": 15,
   "metadata": {},
   "outputs": [],
   "source": [
    "def plot_spectra(title,df):\n",
    "    \"\"\"\n",
    "    This function plot qdp spectra files\n",
    "    from dataframe return from read_spectra\n",
    "    Arguments:\n",
    "    * title: title\n",
    "    * df: pandas dataframe\n",
    "    \"\"\"\n",
    "    fig, ax = plt.subplots(figsize=(10,6))\n",
    "    ax.errorbar(df.x, df.y, xerr=df.x_err,yerr=df.y_err,fmt='.-',label='data')\n",
    "    ax.errorbar(df.x, df.back, xerr=df.x_err,yerr=df.back_err,color='red',fmt='*-',label='background')\n",
    "    ax.set_xlabel('Energy (keV)')\n",
    "    ax.set_ylabel('Normalized Counts/s/keV')\n",
    "    ax.set_title(title)\n",
    "    ax.set_xscale('linear')\n",
    "    ax.set_yscale('linear')\n",
    "    ax.grid()\n",
    "    ax.legend()\n",
    "    plt.show();"
   ]
  },
  {
   "cell_type": "markdown",
   "metadata": {},
   "source": [
    "## read_fit(DIR,name,skiprows=3)"
   ]
  },
  {
   "cell_type": "code",
   "execution_count": 16,
   "metadata": {},
   "outputs": [],
   "source": [
    "def read_fit(DIR,name,skiprows=3):\n",
    "    \"\"\"\n",
    "    This function reads qdp spectra fitting files\n",
    "    \n",
    "    Arguments:\n",
    "    * DIR: file directory\n",
    "    * name: file name\n",
    "    * skiprows: skip first number of rows\n",
    "    \"\"\"\n",
    "    DIR = DIR\n",
    "    cols = ['x','x_err','y','y_err','res','res_err','total','model']\n",
    "    df = pd.read_table(path.join(DIR,name),skiprows=skiprows,names=cols,delimiter=' ')\n",
    "    return df"
   ]
  },
  {
   "cell_type": "markdown",
   "metadata": {},
   "source": [
    "## plot_model(title,df)"
   ]
  },
  {
   "cell_type": "code",
   "execution_count": 17,
   "metadata": {},
   "outputs": [],
   "source": [
    "def plot_model(title,df):\n",
    "    \"\"\"\n",
    "    This function plot qdp spectra fitting files\n",
    "    from dataframe return from read_fitting\n",
    "    Arguments:\n",
    "    * title: title\n",
    "    * df: pandas dataframe\n",
    "    \"\"\"\n",
    "    fig, ax = plt.subplots(figsize=(10,6))\n",
    "    ax.errorbar(df.x, df.y, xerr=df.x_err,yerr=df.y_err,fmt='.-',label='data')\n",
    "    ax.errorbar(df.x, df.res, xerr=df.x_err,yerr=df.res_err,color='black',fmt='*-',label='background')\n",
    "    ax.plot(df.x, df.model, label='model')\n",
    "    ax.set_xlabel('Energy (keV)')\n",
    "    ax.set_ylabel('Normalized Counts/s/keV')\n",
    "    ax.set_title(title)\n",
    "    ax.set_xscale('linear')\n",
    "    ax.set_yscale('linear')\n",
    "    ax.grid()\n",
    "    ax.legend()\n",
    "    plt.show();"
   ]
  },
  {
   "cell_type": "markdown",
   "metadata": {},
   "source": [
    "## combine_error"
   ]
  },
  {
   "cell_type": "code",
   "execution_count": 87,
   "metadata": {},
   "outputs": [],
   "source": [
    "def combine_error(arr):\n",
    "    \"\"\"\n",
    "    This function takes a numpy array of errors \n",
    "    and return the combined error\n",
    "    Arguments:\n",
    "    * arr: error array\n",
    "    \"\"\"\n",
    "    error = np.sqrt(np.sum(np.square(arr)))/85\n",
    "    return error"
   ]
  },
  {
   "cell_type": "markdown",
   "metadata": {},
   "source": [
    "# Individual spectral fitting"
   ]
  },
  {
   "cell_type": "markdown",
   "metadata": {},
   "source": [
    "## Fitting parameters are linked with solid angles in a region as scale factors"
   ]
  },
  {
   "cell_type": "markdown",
   "metadata": {},
   "source": [
    "## define regions (for testing purpose)"
   ]
  },
  {
   "cell_type": "code",
   "execution_count": 229,
   "metadata": {
    "scrolled": true
   },
   "outputs": [
    {
     "name": "stdout",
     "output_type": "stream",
     "text": [
      "[1, 2, 3, 4, 5, 6, 7, 8, 10, 11, 12, 13, 14, 15, 16, 17, 18, 19, 20, 21, 22, 23, 24, 25, 26, 27, 28, 29, 30, 31, 32, 33, 34, 35, 36, 37, 38, 39, 40, 41, 42, 43, 44, 45, 46, 47, 48, 49, 50, 51, 52, 53, 54, 55, 56, 57, 58, 59, 60, 61, 62, 63, 64, 65, 66, 67, 68, 69, 70, 71, 72, 73, 74, 75, 76, 77, 78, 79, 81, 82, 83, 84, 85, 86, 87, 88, 89, 92, 93, 94, 95, 96, 97, 98]\n"
     ]
    }
   ],
   "source": [
    "regs = []\n",
    "for reg in range(100):  \n",
    "    DIR = f'/raid2/dxb/xmm/analysis/COSMOS/sicong/xspec/phase1/{reg}'\n",
    "    test_names = [f.split('-')[0] for f in listdir(DIR) if f.startswith('0')]\n",
    "    test_names = sorted(list(set(test_names)))\n",
    "    if test_names:\n",
    "        regs.append(reg)\n",
    "print(regs)"
   ]
  },
  {
   "cell_type": "markdown",
   "metadata": {},
   "source": [
    "## Get solid angles"
   ]
  },
  {
   "cell_type": "markdown",
   "metadata": {},
   "source": [
    "### check if pnS005-back-im-sky-400-7200-phs1-reg#.fits exist"
   ]
  },
  {
   "cell_type": "code",
   "execution_count": 198,
   "metadata": {},
   "outputs": [
    {
     "name": "stdout",
     "output_type": "stream",
     "text": [
      "Test passed! All file exist.\n"
     ]
    }
   ],
   "source": [
    "if '0302352401' in names:\n",
    "    names.remove('0302352401')\n",
    "\n",
    "for name in names:\n",
    "    p = pathlib.Path(f'/raid2/dxb/xmm/analysis/COSMOS/sicong/{name}/analysis')\n",
    "    lis = p/'reg-num-radec.lis'\n",
    "    regs = [int(line) for line in open(lis,'r')]\n",
    "    for reg in regs:\n",
    "        f = pathlib.Path(f'/raid2/dxb/xmm/analysis/COSMOS/sicong/{name}/analysis/smooth-back-im-sky-400-7200-phs1-reg{reg}.fits')\n",
    "        if f.exists() == False:\n",
    "            print('!File not exists:', name, 'region',reg)\n",
    "else:\n",
    "    print('Test passed! All file exist.')"
   ]
  },
  {
   "cell_type": "markdown",
   "metadata": {},
   "source": [
    "### Use Gaussian kernel convolution to smooth the images for solid angles"
   ]
  },
  {
   "cell_type": "code",
   "execution_count": 197,
   "metadata": {},
   "outputs": [],
   "source": [
    "g = Gaussian2DKernel(x_stddev=1,y_stddev=1,x_size=3,y_size=3)\n",
    "for name in names:\n",
    "    p = pathlib.Path(f'/raid2/dxb/xmm/analysis/COSMOS/sicong/{name}/analysis')\n",
    "    lis = p/'reg-num-radec.lis'\n",
    "    regs = [int(line) for line in open(lis,'r')]\n",
    "    for reg in regs:\n",
    "        image_file = f'/raid2/dxb/xmm/analysis/COSMOS/sicong/{name}/analysis/pnS005-back-im-sky-400-7200-phs1-reg{reg}.fits'\n",
    "        with fits.open(image_file) as hdu:\n",
    "            old_header = hdu[0].header\n",
    "            old_data=hdu[0].data\n",
    "        new_data = convolve(old_data,g)\n",
    "        outfile = f'/raid2/dxb/xmm/analysis/COSMOS/sicong/{name}/analysis/smooth-back-im-sky-400-7200-phs1-reg{reg}.fits'\n",
    "        hdu = fits.PrimaryHDU(data=new_data,header=old_header)\n",
    "        hdu.writeto(outfile, overwrite=True)"
   ]
  },
  {
   "cell_type": "code",
   "execution_count": 185,
   "metadata": {},
   "outputs": [
    {
     "name": "stdout",
     "output_type": "stream",
     "text": [
      "SIMPLE  =                    T / conforms to FITS standard                      BITPIX  =                  -32 / array data type                                NAXIS   =                    2 / number of array dimensions                     NAXIS1  =                  900                                                  NAXIS2  =                  900                                                  COMMENT   FITS (Flexible Image Transport System) format is defined in 'AstronomyCOMMENT   and Astrophysics', volume 376, page 359; bibcode: 2001A&A...376..359H CONTENT = 'IMAGE   '                                                            TELESCOP= 'XMM     '           / mission name                                   INSTRUME= 'EPIC    '           / instrument name                                OBS_MODE= 'POINTING'           / obs mode: POINTING,SLEW, OR SCAN               RADECSYS= 'FK5     '           / Equatorial system reference                    EQUINOX =                 2000 / Equinox                                        EXPOSURE=         2.201400E+04 / Reference pixel                                BUNIT   = 'counts  '           / Units of data                                  CRPIX1  =       4.50910000E+02 / Reference pixel                                CTYPE1  = 'RA---TAN'           / Projection                                     CRVAL1  =       1.49854458E+02 / Central longitude                              CDELT1  =      -6.94444444E-04 / Pixel size                                     CUNIT1  = 'deg     '           / Units of coordinate                            CRPIX2  =       4.50910000E+02 / Reference pixel                                CTYPE2  = 'DEC--TAN'           / Projection                                     CRVAL2  =       1.98819444E+00 / Central latitude                               CDELT2  =       6.94444444E-04 / Pixel size                                     CUNIT2  = 'deg     '           / Units of coordinate                            COMMENT This file was produced using the XMM-ESAS software written by           COMMENT S. L. Snowden, and written using the FITSIO package of                  COMMENT W. D. Pence.                                                            END                                                                                                                                                                                                                                                                                                                                                                                                                                                                                                                                                                                                                                                             \n"
     ]
    }
   ],
   "source": [
    "with fits.open(outfile) as hdu:\n",
    "    print(hdu[0].header)"
   ]
  },
  {
   "cell_type": "code",
   "execution_count": 189,
   "metadata": {},
   "outputs": [
    {
     "data": {
      "image/png": "[encoded data removed]",
      "text/plain": [
       "<Figure size 432x288 with 1 Axes>"
      ]
     },
     "metadata": {
      "needs_background": "light"
     },
     "output_type": "display_data"
    }
   ],
   "source": [
    "plt.imshow(g,interpolation='none',origin='lower')\n",
    "#plt.colorbar()\n",
    "plt.show()"
   ]
  },
  {
   "cell_type": "markdown",
   "metadata": {},
   "source": [
    "### Sum the num of noe-zero pixels and calculate solid angles"
   ]
  },
  {
   "cell_type": "code",
   "execution_count": 199,
   "metadata": {},
   "outputs": [],
   "source": [
    "def pixel_counter(image_file):\n",
    "    \"\"\"\n",
    "    This function count all the nonzero pixels in an image file\n",
    "    \"\"\"\n",
    "    with fits.open(image_file) as hdu:\n",
    "        data = hdu[0].data\n",
    "        x = np.count_nonzero(data)\n",
    "    return x"
   ]
  },
  {
   "cell_type": "code",
   "execution_count": 200,
   "metadata": {},
   "outputs": [],
   "source": [
    "def pixel_counter_smooth(image_file):\n",
    "    \"\"\"\n",
    "    This function count all the pixels > 0.01 in an image file\n",
    "    \"\"\"\n",
    "    with fits.open(image_file) as hdu:\n",
    "        data = hdu[0].data\n",
    "        x = np.count_nonzero(data > 0.01)\n",
    "    return x"
   ]
  },
  {
   "cell_type": "code",
   "execution_count": 201,
   "metadata": {},
   "outputs": [],
   "source": [
    "def pixel_to_sr(image_file,pixels):\n",
    "    \"\"\"\n",
    "    This function convert pixels to solid angles\n",
    "    \"\"\"\n",
    "    with fits.open(image_file) as hdu:\n",
    "        header = hdu[0].header\n",
    "        size = float(header['CDELT2'])\n",
    "    deg2 = pixels*size**2\n",
    "    factor = 3282.8\n",
    "    sr = deg2 / factor\n",
    "    return sr"
   ]
  },
  {
   "cell_type": "code",
   "execution_count": 202,
   "metadata": {},
   "outputs": [],
   "source": [
    "# create a dataframe with all values = 0\n",
    "nums = [i for i in range(100)]\n",
    "data_arr = np.zeros((len(nums),len(names)))\n",
    "df = pd.DataFrame(data=data_arr,columns=names,index=nums)\n",
    "\n",
    "#calculate solid angles for each pointing\n",
    "for name in names:\n",
    "    p = pathlib.Path(f'/raid2/dxb/xmm/analysis/COSMOS/sicong/{name}/analysis')\n",
    "    lis = p/'reg-num-radec.lis'\n",
    "    regs = [int(line) for line in open(lis,'r')]\n",
    "    for reg in regs:\n",
    "        image_file = f'/raid2/dxb/xmm/analysis/COSMOS/sicong/{name}/analysis/smooth-back-im-sky-400-7200-phs1-reg{reg}.fits'\n",
    "        x = pixel_counter(image_file)\n",
    "        sr = pixel_to_sr(image_file,x)\n",
    "        df.at[reg,name] = sr\n",
    "#write to csv file\n",
    "fout = '/raid2/dxb/xmm/analysis/COSMOS/sicong/region/phase1/solid_angles.csv'\n",
    "df.to_csv(fout)"
   ]
  },
  {
   "cell_type": "markdown",
   "metadata": {},
   "source": [
    "## check if solid_angles.csv is produced correctly"
   ]
  },
  {
   "cell_type": "code",
   "execution_count": 203,
   "metadata": {},
   "outputs": [
    {
     "name": "stdout",
     "output_type": "stream",
     "text": [
      "0203361901\n",
      "0203362301\n",
      "0203362401\n",
      "0302351801\n",
      "0302351901\n",
      "0302352301\n",
      "0302352501\n",
      "0302353201\n",
      "0302353301\n",
      "0501170201\n"
     ]
    }
   ],
   "source": [
    "result = df.loc[23].to_numpy().nonzero()\n",
    "for i in result[0]:\n",
    "    print(names[i])"
   ]
  },
  {
   "cell_type": "code",
   "execution_count": 85,
   "metadata": {},
   "outputs": [
    {
     "name": "stdout",
     "output_type": "stream",
     "text": [
      "0203361901 0203362301 0203362401 0302351801 0302351901 0302352301 0302352501 0302353201 0302353301 0501170201\n"
     ]
    }
   ],
   "source": [
    "print(*test_names)"
   ]
  },
  {
   "cell_type": "markdown",
   "metadata": {},
   "source": [
    "## testing if sum(exposures) == exposure-grp"
   ]
  },
  {
   "cell_type": "code",
   "execution_count": 12,
   "metadata": {
    "scrolled": true
   },
   "outputs": [
    {
     "name": "stdout",
     "output_type": "stream",
     "text": [
      "/raid2/dxb/xmm/analysis/COSMOS/sicong/xspec/phase1/23\n",
      "0203361901-pnS005-back-phs1-reg23.pi\r\n",
      "0203361901-pnS005-obj-os-phs1-reg23-grp.pi\r\n",
      "0203361901-pnS005-obj-os-phs1-reg23.pi\r\n",
      "0203361901-pnS005-phs1-reg23.arf\r\n",
      "0203361901-pnS005-phs1-reg23.rmf\r\n",
      "0203362301-pnS005-back-phs1-reg23-old.pi\r\n",
      "0203362301-pnS005-back-phs1-reg23.pi\r\n",
      "0203362301-pnS005-obj-os-phs1-reg23-grp.pi\r\n",
      "0203362301-pnS005-obj-os-phs1-reg23.pi\r\n",
      "0203362301-pnS005-phs1-reg23.arf\r\n",
      "0203362301-pnS005-phs1-reg23.rmf\r\n",
      "0203362401-pnS005-back-phs1-reg23-old.pi\r\n",
      "0203362401-pnS005-back-phs1-reg23.pi\r\n",
      "0203362401-pnS005-obj-os-phs1-reg23-grp.pi\r\n",
      "0203362401-pnS005-obj-os-phs1-reg23.pi\r\n",
      "0203362401-pnS005-phs1-reg23.arf\r\n",
      "0203362401-pnS005-phs1-reg23.rmf\r\n",
      "0302351801-pnS005-back-phs1-reg23.pi\r\n",
      "0302351801-pnS005-obj-os-phs1-reg23-grp.pi\r\n",
      "0302351801-pnS005-obj-os-phs1-reg23.pi\r\n",
      "0302351801-pnS005-phs1-reg23.arf\r\n",
      "0302351801-pnS005-phs1-reg23.rmf\r\n",
      "0302351901-pnS005-back-phs1-reg23.pi\r\n",
      "0302351901-pnS005-obj-os-phs1-reg23-grp.pi\r\n",
      "0302351901-pnS005-obj-os-phs1-reg23.pi\r\n",
      "0302351901-pnS005-phs1-reg23.arf\r\n",
      "0302351901-pnS005-phs1-reg23.rmf\r\n",
      "0302352301-pnS005-back-phs1-reg23.pi\r\n",
      "0302352301-pnS005-obj-os-phs1-reg23-grp.pi\r\n",
      "0302352301-pnS005-obj-os-phs1-reg23.pi\r\n",
      "0302352301-pnS005-phs1-reg23.arf\r\n",
      "0302352301-pnS005-phs1-reg23.rmf\r\n",
      "0302352501-pnS005-back-phs1-reg23.pi\r\n",
      "0302352501-pnS005-obj-os-phs1-reg23-grp.pi\r\n",
      "0302352501-pnS005-obj-os-phs1-reg23.pi\r\n",
      "0302352501-pnS005-phs1-reg23.arf\r\n",
      "0302352501-pnS005-phs1-reg23.rmf\r\n",
      "0302353201-pnS005-back-phs1-reg23-old.pi\r\n",
      "0302353201-pnS005-back-phs1-reg23.pi\r\n",
      "0302353201-pnS005-obj-os-phs1-reg23-grp.pi\r\n",
      "0302353201-pnS005-obj-os-phs1-reg23.pi\r\n",
      "0302353201-pnS005-phs1-reg23.arf\r\n",
      "0302353201-pnS005-phs1-reg23.rmf\r\n",
      "0302353301-pnS005-back-phs1-reg23.pi\r\n",
      "0302353301-pnS005-obj-os-phs1-reg23-grp.pi\r\n",
      "0302353301-pnS005-obj-os-phs1-reg23.pi\r\n",
      "0302353301-pnS005-phs1-reg23.arf\r\n",
      "0302353301-pnS005-phs1-reg23.rmf\r\n",
      "0501170201-pnS005-back-phs1-reg23.pi\r\n",
      "0501170201-pnS005-obj-os-phs1-reg23-grp.pi\r\n",
      "0501170201-pnS005-obj-os-phs1-reg23.pi\r\n",
      "0501170201-pnS005-phs1-reg23.arf\r\n",
      "0501170201-pnS005-phs1-reg23.rmf\r\n",
      "addarf.sh\r\n",
      "addrmf.sh\r\n",
      "backscale.sh\r\n",
      "backscale.sh~\r\n",
      "exps.lis\r\n",
      "mathpha.sh\r\n",
      "move.sh\r\n",
      "reg23.arf\r\n",
      "reg23-back.pi\r\n",
      "reg23-grp.pi\r\n",
      "reg23.pi\r\n",
      "reg23.rmf\r\n",
      "test1.pi\r\n",
      "test-back-old.pi\r\n",
      "test-back.pi\r\n",
      "test-grp.pi\r\n",
      "test.pi\r\n",
      "test_src.pi.tmp\r\n"
     ]
    }
   ],
   "source": [
    "%cd /raid2/dxb/xmm/analysis/COSMOS/sicong/xspec/phase1/23\n",
    "%ls"
   ]
  },
  {
   "cell_type": "markdown",
   "metadata": {},
   "source": [
    "## Check correlation between count rate and area"
   ]
  },
  {
   "cell_type": "code",
   "execution_count": 133,
   "metadata": {},
   "outputs": [
    {
     "data": {
      "text/html": [
       "<div>\n",
       "<style scoped>\n",
       "    .dataframe tbody tr th:only-of-type {\n",
       "        vertical-align: middle;\n",
       "    }\n",
       "\n",
       "    .dataframe tbody tr th {\n",
       "        vertical-align: top;\n",
       "    }\n",
       "\n",
       "    .dataframe thead th {\n",
       "        text-align: right;\n",
       "    }\n",
       "</style>\n",
       "<table border=\"1\" class=\"dataframe\">\n",
       "  <thead>\n",
       "    <tr style=\"text-align: right;\">\n",
       "      <th></th>\n",
       "      <th>area</th>\n",
       "      <th>count rate</th>\n",
       "      <th>exposure</th>\n",
       "    </tr>\n",
       "  </thead>\n",
       "  <tbody>\n",
       "    <tr>\n",
       "      <th>0</th>\n",
       "      <td>5.702480</td>\n",
       "      <td>0.000576</td>\n",
       "      <td>19570</td>\n",
       "    </tr>\n",
       "    <tr>\n",
       "      <th>1</th>\n",
       "      <td>6.091479</td>\n",
       "      <td>0.000660</td>\n",
       "      <td>10996</td>\n",
       "    </tr>\n",
       "    <tr>\n",
       "      <th>2</th>\n",
       "      <td>0.416029</td>\n",
       "      <td>0.000139</td>\n",
       "      <td>14397</td>\n",
       "    </tr>\n",
       "    <tr>\n",
       "      <th>3</th>\n",
       "      <td>4.267385</td>\n",
       "      <td>0.000316</td>\n",
       "      <td>7672</td>\n",
       "    </tr>\n",
       "    <tr>\n",
       "      <th>4</th>\n",
       "      <td>1.855091</td>\n",
       "      <td>0.000411</td>\n",
       "      <td>2426</td>\n",
       "    </tr>\n",
       "    <tr>\n",
       "      <th>5</th>\n",
       "      <td>1.691882</td>\n",
       "      <td>0.000171</td>\n",
       "      <td>19204</td>\n",
       "    </tr>\n",
       "    <tr>\n",
       "      <th>6</th>\n",
       "      <td>5.940756</td>\n",
       "      <td>0.000582</td>\n",
       "      <td>7145</td>\n",
       "    </tr>\n",
       "    <tr>\n",
       "      <th>7</th>\n",
       "      <td>1.638262</td>\n",
       "      <td>0.000264</td>\n",
       "      <td>8104</td>\n",
       "    </tr>\n",
       "    <tr>\n",
       "      <th>8</th>\n",
       "      <td>1.962771</td>\n",
       "      <td>0.000137</td>\n",
       "      <td>21889</td>\n",
       "    </tr>\n",
       "  </tbody>\n",
       "</table>\n",
       "</div>"
      ],
      "text/plain": [
       "       area  count rate  exposure\n",
       "0  5.702480    0.000576     19570\n",
       "1  6.091479    0.000660     10996\n",
       "2  0.416029    0.000139     14397\n",
       "3  4.267385    0.000316      7672\n",
       "4  1.855091    0.000411      2426\n",
       "5  1.691882    0.000171     19204\n",
       "6  5.940756    0.000582      7145\n",
       "7  1.638262    0.000264      8104\n",
       "8  1.962771    0.000137     21889"
      ]
     },
     "execution_count": 133,
     "metadata": {},
     "output_type": "execute_result"
    }
   ],
   "source": [
    "exps=[]\n",
    "counts=[]\n",
    "DIR = '/raid2/dxb/xmm/analysis/COSMOS/sicong/xspec/phase1/23'\n",
    "for name in test_names:\n",
    "    with fits.open(path.join(DIR,f'{name}-pnS005-obj-os-phs1-reg23-grp.pi')) as hdu:\n",
    "        header=hdu[1].header\n",
    "        data = hdu[1].data\n",
    "        exps.append(int(header['EXPOSURE']))\n",
    "        counts.append(np.sum(data['RATE'])/np.count_nonzero(data['RATE']))\n",
    "        #counts.append(np.sum(data['RATE']))\n",
    "with fits.open(path.join(DIR,'reg23-grp.pi')) as hdu:\n",
    "    header=hdu[1].header\n",
    "    exp=int(header['EXPOSURE'])\n",
    "large_areas = np.array(areas)*1e6 \n",
    "# print('exposure:',*exps)\n",
    "# print('area:   ',np.round(large_areas,3))\n",
    "# print('counts/s:',*counts)\n",
    "df_rate = pd.DataFrame({'area':large_areas, 'count rate':counts,'exposure':exps})\n",
    "df_rate"
   ]
  },
  {
   "cell_type": "code",
   "execution_count": 100,
   "metadata": {},
   "outputs": [
    {
     "data": {
      "text/plain": [
       "[5.702479677312125,\n",
       " 2.3620529324411783,\n",
       " 6.091478754686603,\n",
       " 0.4160292247449105,\n",
       " 4.267384516106959,\n",
       " 1.855090766270738,\n",
       " 1.691881561224271,\n",
       " 5.940756302501477,\n",
       " 1.6382619754079244,\n",
       " 1.9627706468279482]"
      ]
     },
     "execution_count": 100,
     "metadata": {},
     "output_type": "execute_result"
    }
   ],
   "source": [
    "large_areas"
   ]
  },
  {
   "cell_type": "code",
   "execution_count": 134,
   "metadata": {},
   "outputs": [
    {
     "data": {
      "image/png": "[encoded data removed]",
      "text/plain": [
       "<Figure size 432x288 with 1 Axes>"
      ]
     },
     "metadata": {
      "needs_background": "light"
     },
     "output_type": "display_data"
    }
   ],
   "source": [
    "_ = sns.regplot(x='area',y='count rate',data=df_rate)"
   ]
  },
  {
   "cell_type": "markdown",
   "metadata": {},
   "source": [
    "##  Get the scale factor of areas"
   ]
  },
  {
   "cell_type": "code",
   "execution_count": 235,
   "metadata": {},
   "outputs": [],
   "source": [
    "# get the scale factor of areas\n",
    "dest = '/raid2/dxb/xmm/analysis/COSMOS/sicong/xspec/phase2/'\n",
    "df = pd.read_csv('/raid2/dxb/xmm/analysis/COSMOS/sicong/region/phase1/solid_angles.csv')\n",
    "for reg in regs:\n",
    "    r = 15/60.\n",
    "    DIR = f'/raid2/dxb/xmm/analysis/COSMOS/sicong/xspec/phase1/{reg}'\n",
    "    test_names = [f.split('-')[0] for f in listdir(DIR) if f.startswith('0')]\n",
    "    test_names = sorted(list(set(test_names)))\n",
    "    areas = [df.at[reg,name] for name in test_names if name not in bad_names[reg]]\n",
    "# for i in test_names:\n",
    "#     DIR = f'/raid2/dxb/xmm/analysis/COSMOS/sicong/{i}/analysis/'\n",
    "#     with fits.open(path.join(DIR, 'pnS005-cheese.fits')) as hdu:    \n",
    "#         header = hdu[0].header\n",
    "#         x = header['CRVAL1']\n",
    "#         y = header['CRVAL2']\n",
    "#     circle = Point(x,y).buffer(r)\n",
    "#     m=boxes[reg].intersection(circle)\n",
    "#     areas.append(m.area)\n",
    "\n",
    "    reg_area = (10/60)**2/3282.8\n",
    "    scales = [area/areas[0] for area in areas]\n",
    "    ratio = areas[0]/reg_area\n",
    "    with open(dest+'scale-reg{}.txt'.format(reg),'wt') as f:\n",
    "        print(*scales,file=f,sep='\\n')\n",
    "    with open(dest+'ratio-reg{}.txt'.format(reg),'wt') as f:\n",
    "        print('{} : {}'.format(test_names[0],ratio),file=f)"
   ]
  },
  {
   "cell_type": "markdown",
   "metadata": {},
   "source": [
    "## write grppha files"
   ]
  },
  {
   "cell_type": "code",
   "execution_count": 210,
   "metadata": {
    "scrolled": true
   },
   "outputs": [],
   "source": [
    "# write grppha files\n",
    "dest = '/raid2/dxb/xmm/analysis/COSMOS/sicong/xspec/phase2/'\n",
    "for reg in range(100):\n",
    "    DIR = f'/raid2/dxb/xmm/analysis/COSMOS/sicong/xspec/phase1/{reg}'\n",
    "    test_names = [f.split('-')[0] for f in listdir(DIR) if f.startswith('0')]\n",
    "    test_names = sorted(list(set(test_names)))\n",
    "    for name in test_names:\n",
    "        with open(dest+f'grp-reg{reg}.sh','at') as fout:\n",
    "            print(f'grppha infile=\"{name}-pnS005-obj-os-phs1-reg{reg}.pi\" outfile=\"{name}-pnS005-obj-os-phs1-reg{reg}-grp.pi\" comm=\"group min 25&chkey RESPFILE {name}-pnS005-phs1-reg{reg}.rmf&chkey ANCRFILE {name}-pnS005-phs1-reg{reg}.arf&chkey BACKFILE {name}-pnS005-back-phs1-reg{reg}.pi&exit\"', file=fout)"
   ]
  },
  {
   "cell_type": "markdown",
   "metadata": {},
   "source": [
    "## write backscale.sh and move.sh"
   ]
  },
  {
   "cell_type": "code",
   "execution_count": 664,
   "metadata": {},
   "outputs": [],
   "source": [
    "# wt backscale\n",
    "\n",
    "\n",
    "for reg in range(100):\n",
    "  \n",
    "  DIR = f'/raid2/dxb/xmm/analysis/COSMOS/sicong/xspec/phase1/{reg}'\n",
    "  test_names = [f.split('-')[0] for f in listdir(DIR) if f.startswith('0')]\n",
    "  test_names = sorted(list(set(test_names)))\n",
    "  st = ' '.join(test_names)\n",
    "  if test_names:\n",
    "    #print('xspec',file=fout)\n",
    "    fout = open(dest+f'/backscale/backscale-reg{reg}.sh','at')\n",
    "    print(f\"foreach i [list {st}]\", \"{\",file=fout)\n",
    "    print(f\"\"\"\n",
    "    da $i-pnS005-obj-os-phs1-reg{reg}-grp.pi\n",
    "\n",
    "    ignore 1:0.-10. 14.-**\n",
    "\n",
    "    tclout rate 1\n",
    "    scan $xspec_tclout \"%f\" temp\n",
    "\n",
    "    backgrnd none \n",
    "    tclout rate 1 \n",
    "    scan $xspec_tclout \"%f\" sr\n",
    "\n",
    "    backgrnd $i-pnS005-back-phs1-reg{reg}.pi\n",
    "\n",
    "    tclout backscal 1 s\n",
    "    scan $xspec_tclout \"%f\" sb\n",
    "    tclout backscal 1 b\n",
    "    scan $xspec_tclout \"%f\" bbo\n",
    "\n",
    "    set br [expr ($sr-$temp)*($bbo/$sb)]\n",
    "    set bb [expr $br*$sb/$sr]\n",
    "\n",
    "    grppha infile=\"$i-pnS005-back-phs1-reg{reg}.pi\" outfile=\"$i-pnS005-back-phs1-reg{reg}-new.pi\" comm=\"CHKEY BACKSCAL $bb & exit\"\n",
    "    \"\"\",file=fout)\n",
    "    print(\"}\",file=fout)\n",
    "    print(\"exit\",file=fout)\n",
    "    fout.close()\n",
    "\n"
   ]
  },
  {
   "cell_type": "code",
   "execution_count": null,
   "metadata": {},
   "outputs": [],
   "source": [
    "fout = open('move.sh','at')\n",
    "print(f'for i in {st}',file=fout)\n",
    "print(\"\"\"do\n",
    "cp $name-pnS005-back-phs1-reg$i.pi /raid2/dxb/xmm/analysis/COSMOS/sicong/xspec/phase2/backscale/$name-pnS005-back-phs1-reg$i.pi\n",
    "rm $name-pnS005-back-phs1-reg$i.pi\n",
    "mv $name-pnS005-back-phs1-reg$i-new.pi $name-pnS005-back-phs1-reg$i.pi\n",
    "done\n",
    "\n",
    "\"\"\",file=fout)\n",
    "fout.close()"
   ]
  },
  {
   "cell_type": "code",
   "execution_count": 130,
   "metadata": {},
   "outputs": [],
   "source": [
    "dst = '/raid2/dxb/xmm/analysis/COSMOS/sicong/xspec/phase1/23/'\n",
    "src = '/raid2/dxb/xmm/analysis/COSMOS/sicong/'\n",
    "for name in test_names:\n",
    "    shutil.copy2(src+f'{name}/analysis/pnS005-obj-os-phs1-reg23.pi', dst+f'{name}-pnS005-obj-os-phs1-reg23.pi')"
   ]
  },
  {
   "cell_type": "markdown",
   "metadata": {},
   "source": [
    "## get temp and norm from lhb_par_phase1.csv"
   ]
  },
  {
   "cell_type": "code",
   "execution_count": 20,
   "metadata": {},
   "outputs": [],
   "source": [
    "# get temp and norm\n",
    "par_file='/raid2/dxb/xmm/analysis/COSMOS/sicong/rosat_maps/lhb_par_phase1.csv'\n",
    "df=ascii.read(par_file,format='csv')\n",
    "temps=[df[i]['T'] for i in range(100)]\n",
    "norms=[df[i]['norm'] for i in range(100)]"
   ]
  },
  {
   "cell_type": "markdown",
   "metadata": {},
   "source": [
    "## write fitting commands for pyxspec"
   ]
  },
  {
   "cell_type": "code",
   "execution_count": null,
   "metadata": {},
   "outputs": [],
   "source": [
    "# write fitting commands\n",
    "nh=0.026\n",
    "#for reg in regs:\n",
    "for reg in regs:\n",
    "    DIR = '/raid2/dxb/xmm/analysis/COSMOS/sicong/xspec/phase1/{}'.format(reg)\n",
    "    test_names = [f.split('-')[0] for f in listdir(DIR) if f.startswith('0')]\n",
    "    test_names = sorted(list(set(test_names)))\n",
    "    # remove bad obs\n",
    "    if bad_names[reg]:\n",
    "        for bad_name in bad_names[reg]:\n",
    "            if bad_name in test_names:\n",
    "                test_names.remove(bad_name)\n",
    "    #get scale factor\n",
    "    scales = [float(line) for line in open('scale-reg{}.txt'.format(reg),'r')]\n",
    "    with open('ratio-reg{}.txt'.format(reg),'r') as f:\n",
    "        ratio = float(f.readline().split(':')[1])\n",
    "    #open log\n",
    "    logfile = Xset.openLog(\"reg{}_fixed_t.log\".format(reg))\n",
    "    for i in range(len(test_names)):\n",
    "        AllData += \"{}-pnS005-obj-os-phs1-reg{}-grp.pi\".format(test_names[i],reg)\n",
    "    #get spectra in groups\n",
    "    expr = '1:1 {}-pnS005-obj-os-phs1-reg{}-grp.pi'.format(test_names[0],reg)\n",
    "    for i in range(1,len(test_names)):\n",
    "        expr = expr + ' {}:{} {}-pnS005-obj-os-phs1-reg{}-grp.pi'.format(i+1,i+1,test_names[i],reg)\n",
    "        \n",
    "    AllData(expr)\n",
    "    AllData.ignore(\"0.-0.5 1.3-1.75 7.-**\")\n",
    "    \n",
    "    #set fitting pars    \n",
    "    par_dict = {1:temps[reg], 4:norms[reg]*ratio, 5:nh, 6:0.14857767647058823, 10:1.85}\n",
    "    m1 = Model(\"apec+wabs*(apec+po)\", setPars=par_dict)\n",
    "    m1(1).frozen=True\n",
    "    m1(4).frozen=True\n",
    "    m1(5).frozen=True\n",
    "    m1(6).frozen=True\n",
    "    \n",
    "    p4 = m1(4)\n",
    "    p6 = m1(6)\n",
    "    p9 = m1(9)\n",
    "    p10 = m1(10)\n",
    "    p11 = m1(11)\n",
    "    \n",
    "    if len(test_names) > 1:\n",
    "        for i in range(1,len(test_names)):\n",
    "            m = AllModels(i+1) \n",
    "        \n",
    "#         m(1).values = m1(1).values[0]\n",
    "            m(4).values = scales[i]*p4.values[0]\n",
    "#         m(5).values = m1(5).values[0]\n",
    "#         m(6).link = \"1 * p6\"\n",
    "            m(9).link = \"{} * p9\".format(scales[i])\n",
    "#         m(10).link = \"1 * m1(10)\"\n",
    "            m(11).link = \"{} * p11\".format(scales[i])\n",
    "        \n",
    "        #m(1).frozen=True\n",
    "            m(4).frozen=True\n",
    "        #m(5).frozen=True\n",
    "    \n",
    "    Fit.query=\"yes\"\n",
    "    Fit.perform()\n",
    "    AllData.clear()\n",
    "    AllModels.clear()\n",
    "    Xset.closeLog()   \n",
    "    \n"
   ]
  },
  {
   "cell_type": "code",
   "execution_count": null,
   "metadata": {},
   "outputs": [],
   "source": []
  },
  {
   "cell_type": "code",
   "execution_count": null,
   "metadata": {},
   "outputs": [],
   "source": [
    "with open('xspec.log') as f:\n",
    "    lines=f.readlines()\n",
    "with open('result.txt','at') as fout:\n",
    "    for i in range(len(lines)):\n",
    "        if 'Spectral Data File' in lines[i]:\n",
    "            print(lines[i],end='',file=fout)\n",
    "        if 'Covariance Matrix' in lines[i]:\n",
    "            print(*lines[i+12:i+23],end='',file=fout)\n",
    "            print(lines[i+29],end='',file=fout)"
   ]
  },
  {
   "cell_type": "code",
   "execution_count": 236,
   "metadata": {},
   "outputs": [
    {
     "name": "stdout",
     "output_type": "stream",
     "text": [
      "0203360101 0203360201 0203360301 0203360401 0203360501 0203360601 0203360701 0203360801 0203360901 0203361001 0203361101 0203361201 0203361301 0203361401 0203361501 0203361601 0203361701 0203361801 0203361901 0203362001 0203362101 0203362201 0203362301 0203362401 0203362501 0302350101 0302350201 0302350301 0302350401 0302350501 0302350601 0302350701 0302350801 0302350901 0302351001 0302351101 0302351201 0302351301 0302351401 0302351501 0302351601 0302351701 0302351801 0302351901 0302352001 0302352201 0302352301 0302352501 0302353001 0302353101 0302353201 0302353301 0302353401 0501170101 0501170201\n"
     ]
    }
   ],
   "source": [
    "print(*names)"
   ]
  },
  {
   "cell_type": "markdown",
   "metadata": {},
   "source": [
    "# read fitting parameters for individual spectra fitting"
   ]
  },
  {
   "cell_type": "code",
   "execution_count": 89,
   "metadata": {},
   "outputs": [
    {
     "name": "stdout",
     "output_type": "stream",
     "text": [
      "EM 6 0.010882852405610823\n",
      "EM:\n",
      "mean: 0.004672429181713324 std: 0.001472578237862579 max: 0.010882852405610823 min: 0.00016918421864676737 combined error: 0.00011250417045777906\n",
      "PhoIndex:\n",
      "mean: 2.0412598588235293 std: 0.6133528750064949 max: 5.79332 min: 0.796023 combined error: 0.04485951410067605\n",
      "powerlaw norm:\n",
      "mean: 7.898329053632524e-05 std: 4.01310083254232e-05 max: 0.00023080190556703468 min: 1.7817199107474207e-05 combined error: 7.87199140191334e-07\n"
     ]
    }
   ],
   "source": [
    "# em for individual spectra\n",
    "ems, inds, kts, pnorms = [], [], [], []\n",
    "ems_err, inds_err, kts_err, pnorms_err = [], [], [], []\n",
    "reg_area = (10/60)**2/3282.8\n",
    "DIR = '/raid2/dxb/xmm/analysis/COSMOS/sicong/xspec/phase2/'\n",
    "for reg in regs:\n",
    "    with open(path.join(DIR,f'reg{reg}_fixed_t.log')) as f:\n",
    "        lines = f.readlines()\n",
    "    for i in range(len(lines)):\n",
    "        if 'Covariance Matrix' in lines[i]:\n",
    "#             if 'kT' in lines[i+18]:\n",
    "#                 kt = float(lines[i+18].split()[5])\n",
    "#                 kte = float(lines[i+18].split()[7])\n",
    "#             elif 'kT' in lines[i+17]:\n",
    "#                 kt = float(lines[i+17].split()[5])\n",
    "#                 kte = float(lines[i+17].split()[7])\n",
    "#             elif 'kT' in lines[i+16]:\n",
    "#                 kt = float(lines[i+16].split()[5])\n",
    "#                 kte = float(lines[i+16].split()[7])\n",
    "#             else:\n",
    "#                 print('Temperature check',reg)\n",
    "#                 kt = 0\n",
    "#                 kte = 0\n",
    "                \n",
    "            if 'norm' in lines[i+21]:\n",
    "                norm = float(lines[i+21].split()[4])\n",
    "                norme = float(lines[i+21].split()[6])\n",
    "            elif 'norm' in lines[i+20]:\n",
    "                norm = float(lines[i+20].split()[4])\n",
    "                norme = float(lines[i+20].split()[6])\n",
    "            elif 'norm' in lines[i+19]:\n",
    "                norm = float(lines[i+19].split()[4])\n",
    "                norme = float(lines[i+19].split()[6])\n",
    "            else:\n",
    "                print('EM check',reg)\n",
    "                norm = 0\n",
    "                norme = 0\n",
    "            \n",
    "            if 'PhoIndex' in lines[i+22]:\n",
    "                ind = float(lines[i+22].split()[4])\n",
    "                inde = float(lines[i+22].split()[6])\n",
    "            elif 'PhoIndex' in lines[i+21]:\n",
    "                ind = float(lines[i+21].split()[4])\n",
    "                inde = float(lines[i+21].split()[6])\n",
    "            elif 'PhoIndex' in lines[i+20]:\n",
    "                ind = float(lines[i+20].split()[4])\n",
    "                inde = float(lines[i+20].split()[6])\n",
    "            else:\n",
    "                print('Index check',reg)\n",
    "                ind = 0\n",
    "                inde = 0\n",
    "                \n",
    "            if 'powerlaw   norm' in lines[i+23]:\n",
    "                pnorm = float(lines[i+23].split()[4])\n",
    "                pnorme = float(lines[i+23].split()[6])\n",
    "            elif 'powerlaw   norm' in lines[i+22]:\n",
    "                pnorm = float(lines[i+22].split()[4])\n",
    "                pnorme = float(lines[i+22].split()[6])\n",
    "            elif 'powerlaw   norm' in lines[i+21]:\n",
    "                pnorm = float(lines[i+21].split()[4])\n",
    "                pnorme = float(lines[i+21].split()[6])\n",
    "            else:\n",
    "                print('PNorm check',reg)\n",
    "                pnorm = 0\n",
    "                pnorme = 0\n",
    "    with open(path.join(DIR,f'ratio-reg{reg}.txt')) as f:\n",
    "        line = f.readline()\n",
    "        ratio = float(line.split(':')[1])\n",
    "    \n",
    "    #kts.append(kt)\n",
    "    em = norm/2451/(reg_area*ratio)\n",
    "    ems.append(em)\n",
    "    inds.append(ind)\n",
    "    pn = pnorm/ratio\n",
    "    pnorms.append(pn)\n",
    "    \n",
    "    #kts_err.append(kte)\n",
    "    eme = norme/2451/(reg_area*ratio)\n",
    "    ems_err.append(eme)\n",
    "    inds_err.append(inde)\n",
    "    pne = pnorme/ratio\n",
    "    pnorms_err.append(pne)\n",
    "    \n",
    "    if em > 0.01:\n",
    "        print('EM',reg,em)\n",
    "ems = np.array(ems)\n",
    "inds = np.array(inds)\n",
    "#kts = np.array(kts)\n",
    "pnorms = np.array(pnorms)\n",
    "\n",
    "ems_err = np.array(ems_err)\n",
    "inds_err = np.array(inds_err)\n",
    "#kts_err = np.array(kts_err)\n",
    "pnorms_err = np.array(pnorms_err)\n",
    "\n",
    "#print('kT:')\n",
    "#print('mean:',np.mean(kts),'std:', np.std(kts),'max:',np.amax(kts),'min:',np.amin(kts),'combined error:',combine_error(kts_err))\n",
    "print('EM:')\n",
    "print('mean:',np.mean(ems),'std:', np.std(ems),'max:',np.amax(ems),'min:',np.amin(ems),'combined error:',combine_error(ems_err))\n",
    "print('PhoIndex:')\n",
    "print('mean:',np.mean(inds),'std:', np.std(inds),'max:',np.amax(inds),'min:',np.amin(inds),'combined error:',combine_error(inds_err))\n",
    "print('powerlaw norm:')\n",
    "print('mean:',np.mean(pnorms),'std:', np.std(pnorms),'max:',np.amax(pnorms),'min:',np.amin(pnorms),'combined error:',combine_error(pnorms_err))"
   ]
  },
  {
   "cell_type": "code",
   "execution_count": 178,
   "metadata": {},
   "outputs": [],
   "source": [
    "nums = [int(line.split(':')[1][4:6]) for line in open(path.join(DIR,'result.txt')) if 'Spectral Data File' in line]\n",
    "for reg in regs:\n",
    "    if reg not in nums:\n",
    "        print(reg)"
   ]
  },
  {
   "cell_type": "code",
   "execution_count": 81,
   "metadata": {},
   "outputs": [
    {
     "data": {
      "text/plain": [
       "85"
      ]
     },
     "execution_count": 81,
     "metadata": {},
     "output_type": "execute_result"
    }
   ],
   "source": [
    "test_arr = np.array([1,2,-1])"
   ]
  },
  {
   "cell_type": "markdown",
   "metadata": {},
   "source": [
    "# Read reduced chi square for individual spectral fitting"
   ]
  },
  {
   "cell_type": "code",
   "execution_count": 45,
   "metadata": {
    "scrolled": true
   },
   "outputs": [
    {
     "data": {
      "text/html": [
       "<div>\n",
       "<style scoped>\n",
       "    .dataframe tbody tr th:only-of-type {\n",
       "        vertical-align: middle;\n",
       "    }\n",
       "\n",
       "    .dataframe tbody tr th {\n",
       "        vertical-align: top;\n",
       "    }\n",
       "\n",
       "    .dataframe thead th {\n",
       "        text-align: right;\n",
       "    }\n",
       "</style>\n",
       "<table border=\"1\" class=\"dataframe\">\n",
       "  <thead>\n",
       "    <tr style=\"text-align: right;\">\n",
       "      <th></th>\n",
       "      <th>chi2</th>\n",
       "    </tr>\n",
       "  </thead>\n",
       "  <tbody>\n",
       "    <tr>\n",
       "      <th>38</th>\n",
       "      <td>1.30800</td>\n",
       "    </tr>\n",
       "    <tr>\n",
       "      <th>39</th>\n",
       "      <td>1.21800</td>\n",
       "    </tr>\n",
       "    <tr>\n",
       "      <th>47</th>\n",
       "      <td>1.20860</td>\n",
       "    </tr>\n",
       "    <tr>\n",
       "      <th>45</th>\n",
       "      <td>1.20754</td>\n",
       "    </tr>\n",
       "    <tr>\n",
       "      <th>74</th>\n",
       "      <td>1.20360</td>\n",
       "    </tr>\n",
       "    <tr>\n",
       "      <th>85</th>\n",
       "      <td>1.18290</td>\n",
       "    </tr>\n",
       "    <tr>\n",
       "      <th>66</th>\n",
       "      <td>1.18250</td>\n",
       "    </tr>\n",
       "    <tr>\n",
       "      <th>75</th>\n",
       "      <td>1.18020</td>\n",
       "    </tr>\n",
       "    <tr>\n",
       "      <th>25</th>\n",
       "      <td>1.17900</td>\n",
       "    </tr>\n",
       "    <tr>\n",
       "      <th>92</th>\n",
       "      <td>1.17900</td>\n",
       "    </tr>\n",
       "    <tr>\n",
       "      <th>79</th>\n",
       "      <td>1.17170</td>\n",
       "    </tr>\n",
       "    <tr>\n",
       "      <th>71</th>\n",
       "      <td>1.15500</td>\n",
       "    </tr>\n",
       "    <tr>\n",
       "      <th>29</th>\n",
       "      <td>1.15120</td>\n",
       "    </tr>\n",
       "    <tr>\n",
       "      <th>67</th>\n",
       "      <td>1.14330</td>\n",
       "    </tr>\n",
       "    <tr>\n",
       "      <th>42</th>\n",
       "      <td>1.13490</td>\n",
       "    </tr>\n",
       "    <tr>\n",
       "      <th>56</th>\n",
       "      <td>1.13160</td>\n",
       "    </tr>\n",
       "    <tr>\n",
       "      <th>16</th>\n",
       "      <td>1.12990</td>\n",
       "    </tr>\n",
       "    <tr>\n",
       "      <th>35</th>\n",
       "      <td>1.11991</td>\n",
       "    </tr>\n",
       "    <tr>\n",
       "      <th>77</th>\n",
       "      <td>1.11640</td>\n",
       "    </tr>\n",
       "    <tr>\n",
       "      <th>63</th>\n",
       "      <td>1.10410</td>\n",
       "    </tr>\n",
       "    <tr>\n",
       "      <th>54</th>\n",
       "      <td>1.10230</td>\n",
       "    </tr>\n",
       "    <tr>\n",
       "      <th>51</th>\n",
       "      <td>1.10050</td>\n",
       "    </tr>\n",
       "    <tr>\n",
       "      <th>76</th>\n",
       "      <td>1.09840</td>\n",
       "    </tr>\n",
       "    <tr>\n",
       "      <th>44</th>\n",
       "      <td>1.09730</td>\n",
       "    </tr>\n",
       "    <tr>\n",
       "      <th>32</th>\n",
       "      <td>1.09700</td>\n",
       "    </tr>\n",
       "    <tr>\n",
       "      <th>6</th>\n",
       "      <td>1.09580</td>\n",
       "    </tr>\n",
       "    <tr>\n",
       "      <th>41</th>\n",
       "      <td>1.09410</td>\n",
       "    </tr>\n",
       "    <tr>\n",
       "      <th>12</th>\n",
       "      <td>1.09200</td>\n",
       "    </tr>\n",
       "    <tr>\n",
       "      <th>58</th>\n",
       "      <td>1.08420</td>\n",
       "    </tr>\n",
       "    <tr>\n",
       "      <th>65</th>\n",
       "      <td>1.08390</td>\n",
       "    </tr>\n",
       "    <tr>\n",
       "      <th>46</th>\n",
       "      <td>1.08310</td>\n",
       "    </tr>\n",
       "    <tr>\n",
       "      <th>34</th>\n",
       "      <td>1.07850</td>\n",
       "    </tr>\n",
       "    <tr>\n",
       "      <th>95</th>\n",
       "      <td>1.07500</td>\n",
       "    </tr>\n",
       "    <tr>\n",
       "      <th>64</th>\n",
       "      <td>1.07460</td>\n",
       "    </tr>\n",
       "    <tr>\n",
       "      <th>94</th>\n",
       "      <td>1.07440</td>\n",
       "    </tr>\n",
       "    <tr>\n",
       "      <th>50</th>\n",
       "      <td>1.07400</td>\n",
       "    </tr>\n",
       "    <tr>\n",
       "      <th>19</th>\n",
       "      <td>1.07170</td>\n",
       "    </tr>\n",
       "    <tr>\n",
       "      <th>21</th>\n",
       "      <td>1.07020</td>\n",
       "    </tr>\n",
       "    <tr>\n",
       "      <th>53</th>\n",
       "      <td>1.06900</td>\n",
       "    </tr>\n",
       "    <tr>\n",
       "      <th>37</th>\n",
       "      <td>1.06700</td>\n",
       "    </tr>\n",
       "    <tr>\n",
       "      <th>73</th>\n",
       "      <td>1.06280</td>\n",
       "    </tr>\n",
       "    <tr>\n",
       "      <th>55</th>\n",
       "      <td>1.06100</td>\n",
       "    </tr>\n",
       "    <tr>\n",
       "      <th>87</th>\n",
       "      <td>1.05990</td>\n",
       "    </tr>\n",
       "    <tr>\n",
       "      <th>24</th>\n",
       "      <td>1.05500</td>\n",
       "    </tr>\n",
       "    <tr>\n",
       "      <th>14</th>\n",
       "      <td>1.05380</td>\n",
       "    </tr>\n",
       "    <tr>\n",
       "      <th>33</th>\n",
       "      <td>1.05140</td>\n",
       "    </tr>\n",
       "    <tr>\n",
       "      <th>83</th>\n",
       "      <td>1.05060</td>\n",
       "    </tr>\n",
       "    <tr>\n",
       "      <th>30</th>\n",
       "      <td>1.04920</td>\n",
       "    </tr>\n",
       "    <tr>\n",
       "      <th>72</th>\n",
       "      <td>1.04700</td>\n",
       "    </tr>\n",
       "    <tr>\n",
       "      <th>59</th>\n",
       "      <td>1.04600</td>\n",
       "    </tr>\n",
       "    <tr>\n",
       "      <th>43</th>\n",
       "      <td>1.04490</td>\n",
       "    </tr>\n",
       "    <tr>\n",
       "      <th>7</th>\n",
       "      <td>1.04070</td>\n",
       "    </tr>\n",
       "    <tr>\n",
       "      <th>82</th>\n",
       "      <td>1.03980</td>\n",
       "    </tr>\n",
       "    <tr>\n",
       "      <th>22</th>\n",
       "      <td>1.03550</td>\n",
       "    </tr>\n",
       "    <tr>\n",
       "      <th>62</th>\n",
       "      <td>1.03540</td>\n",
       "    </tr>\n",
       "    <tr>\n",
       "      <th>52</th>\n",
       "      <td>1.03480</td>\n",
       "    </tr>\n",
       "    <tr>\n",
       "      <th>23</th>\n",
       "      <td>1.03240</td>\n",
       "    </tr>\n",
       "    <tr>\n",
       "      <th>28</th>\n",
       "      <td>1.02840</td>\n",
       "    </tr>\n",
       "    <tr>\n",
       "      <th>17</th>\n",
       "      <td>1.02800</td>\n",
       "    </tr>\n",
       "    <tr>\n",
       "      <th>13</th>\n",
       "      <td>1.02680</td>\n",
       "    </tr>\n",
       "    <tr>\n",
       "      <th>1</th>\n",
       "      <td>1.02600</td>\n",
       "    </tr>\n",
       "    <tr>\n",
       "      <th>27</th>\n",
       "      <td>1.02160</td>\n",
       "    </tr>\n",
       "    <tr>\n",
       "      <th>48</th>\n",
       "      <td>1.02060</td>\n",
       "    </tr>\n",
       "    <tr>\n",
       "      <th>11</th>\n",
       "      <td>1.02000</td>\n",
       "    </tr>\n",
       "    <tr>\n",
       "      <th>57</th>\n",
       "      <td>1.01800</td>\n",
       "    </tr>\n",
       "    <tr>\n",
       "      <th>31</th>\n",
       "      <td>1.01710</td>\n",
       "    </tr>\n",
       "    <tr>\n",
       "      <th>84</th>\n",
       "      <td>1.00940</td>\n",
       "    </tr>\n",
       "    <tr>\n",
       "      <th>86</th>\n",
       "      <td>1.00880</td>\n",
       "    </tr>\n",
       "    <tr>\n",
       "      <th>61</th>\n",
       "      <td>1.00860</td>\n",
       "    </tr>\n",
       "    <tr>\n",
       "      <th>98</th>\n",
       "      <td>0.99620</td>\n",
       "    </tr>\n",
       "    <tr>\n",
       "      <th>60</th>\n",
       "      <td>0.98030</td>\n",
       "    </tr>\n",
       "    <tr>\n",
       "      <th>40</th>\n",
       "      <td>0.97820</td>\n",
       "    </tr>\n",
       "    <tr>\n",
       "      <th>68</th>\n",
       "      <td>0.97422</td>\n",
       "    </tr>\n",
       "    <tr>\n",
       "      <th>78</th>\n",
       "      <td>0.97317</td>\n",
       "    </tr>\n",
       "    <tr>\n",
       "      <th>18</th>\n",
       "      <td>0.97307</td>\n",
       "    </tr>\n",
       "    <tr>\n",
       "      <th>88</th>\n",
       "      <td>0.96491</td>\n",
       "    </tr>\n",
       "    <tr>\n",
       "      <th>81</th>\n",
       "      <td>0.96458</td>\n",
       "    </tr>\n",
       "    <tr>\n",
       "      <th>36</th>\n",
       "      <td>0.95629</td>\n",
       "    </tr>\n",
       "    <tr>\n",
       "      <th>3</th>\n",
       "      <td>0.95080</td>\n",
       "    </tr>\n",
       "    <tr>\n",
       "      <th>26</th>\n",
       "      <td>0.94372</td>\n",
       "    </tr>\n",
       "    <tr>\n",
       "      <th>49</th>\n",
       "      <td>0.94000</td>\n",
       "    </tr>\n",
       "    <tr>\n",
       "      <th>8</th>\n",
       "      <td>0.93115</td>\n",
       "    </tr>\n",
       "    <tr>\n",
       "      <th>15</th>\n",
       "      <td>0.91513</td>\n",
       "    </tr>\n",
       "    <tr>\n",
       "      <th>70</th>\n",
       "      <td>0.80150</td>\n",
       "    </tr>\n",
       "    <tr>\n",
       "      <th>69</th>\n",
       "      <td>0.71480</td>\n",
       "    </tr>\n",
       "  </tbody>\n",
       "</table>\n",
       "</div>"
      ],
      "text/plain": [
       "       chi2\n",
       "38  1.30800\n",
       "39  1.21800\n",
       "47  1.20860\n",
       "45  1.20754\n",
       "74  1.20360\n",
       "85  1.18290\n",
       "66  1.18250\n",
       "75  1.18020\n",
       "25  1.17900\n",
       "92  1.17900\n",
       "79  1.17170\n",
       "71  1.15500\n",
       "29  1.15120\n",
       "67  1.14330\n",
       "42  1.13490\n",
       "56  1.13160\n",
       "16  1.12990\n",
       "35  1.11991\n",
       "77  1.11640\n",
       "63  1.10410\n",
       "54  1.10230\n",
       "51  1.10050\n",
       "76  1.09840\n",
       "44  1.09730\n",
       "32  1.09700\n",
       "6   1.09580\n",
       "41  1.09410\n",
       "12  1.09200\n",
       "58  1.08420\n",
       "65  1.08390\n",
       "46  1.08310\n",
       "34  1.07850\n",
       "95  1.07500\n",
       "64  1.07460\n",
       "94  1.07440\n",
       "50  1.07400\n",
       "19  1.07170\n",
       "21  1.07020\n",
       "53  1.06900\n",
       "37  1.06700\n",
       "73  1.06280\n",
       "55  1.06100\n",
       "87  1.05990\n",
       "24  1.05500\n",
       "14  1.05380\n",
       "33  1.05140\n",
       "83  1.05060\n",
       "30  1.04920\n",
       "72  1.04700\n",
       "59  1.04600\n",
       "43  1.04490\n",
       "7   1.04070\n",
       "82  1.03980\n",
       "22  1.03550\n",
       "62  1.03540\n",
       "52  1.03480\n",
       "23  1.03240\n",
       "28  1.02840\n",
       "17  1.02800\n",
       "13  1.02680\n",
       "1   1.02600\n",
       "27  1.02160\n",
       "48  1.02060\n",
       "11  1.02000\n",
       "57  1.01800\n",
       "31  1.01710\n",
       "84  1.00940\n",
       "86  1.00880\n",
       "61  1.00860\n",
       "98  0.99620\n",
       "60  0.98030\n",
       "40  0.97820\n",
       "68  0.97422\n",
       "78  0.97317\n",
       "18  0.97307\n",
       "88  0.96491\n",
       "81  0.96458\n",
       "36  0.95629\n",
       "3   0.95080\n",
       "26  0.94372\n",
       "49  0.94000\n",
       "8   0.93115\n",
       "15  0.91513\n",
       "70  0.80150\n",
       "69  0.71480"
      ]
     },
     "execution_count": 45,
     "metadata": {},
     "output_type": "execute_result"
    }
   ],
   "source": [
    "DIR = '/raid2/dxb/xmm/analysis/COSMOS/sicong/xspec/phase2/'\n",
    "new_chi = []\n",
    "\n",
    "for reg in regs:\n",
    "    with open(DIR+f'/reg{reg}_fixed_t.log') as f:\n",
    "        last_line = f.readlines()[-2]\n",
    "        chi = float(last_line[last_line.index(\"=\")+1:last_line.index(\"for\")].strip())\n",
    "    #print(f'{reg}:{chi}')\n",
    "    new_chi.append(chi)\n",
    "d = {'chi2':new_chi}\n",
    "df_chi = pd.DataFrame(d,index=regs)\n",
    "df_chi.sort_values(by=['chi2'],ascending=False)"
   ]
  },
  {
   "cell_type": "markdown",
   "metadata": {},
   "source": [
    "# Histograms for individual spectral fitting"
   ]
  },
  {
   "cell_type": "code",
   "execution_count": 46,
   "metadata": {},
   "outputs": [
    {
     "data": {
      "image/png": "[encoded data removed]",
      "text/plain": [
       "<Figure size 432x288 with 1 Axes>"
      ]
     },
     "metadata": {
      "needs_background": "light"
     },
     "output_type": "display_data"
    }
   ],
   "source": [
    "sns.distplot(a=np.array(new_chi),axlabel='Reduced chi square',kde=False,color='red');"
   ]
  },
  {
   "cell_type": "code",
   "execution_count": 52,
   "metadata": {},
   "outputs": [
    {
     "data": {
      "image/png": "[encoded data removed]",
      "text/plain": [
       "<Figure size 432x288 with 1 Axes>"
      ]
     },
     "metadata": {
      "needs_background": "light"
     },
     "output_type": "display_data"
    }
   ],
   "source": [
    "sns.distplot(a=ems,axlabel='EM',kde=False,color='blue');"
   ]
  },
  {
   "cell_type": "code",
   "execution_count": 608,
   "metadata": {
    "scrolled": true
   },
   "outputs": [
    {
     "data": {
      "image/png": "[encoded data removed]",
      "text/plain": [
       "<Figure size 432x288 with 1 Axes>"
      ]
     },
     "metadata": {
      "needs_background": "light"
     },
     "output_type": "display_data"
    }
   ],
   "source": [
    "ax = sns.boxplot(x=ems)"
   ]
  },
  {
   "cell_type": "code",
   "execution_count": 55,
   "metadata": {
    "scrolled": false
   },
   "outputs": [
    {
     "data": {
      "image/png": "[encoded data removed]",
      "text/plain": [
       "<Figure size 432x288 with 1 Axes>"
      ]
     },
     "metadata": {
      "needs_background": "light"
     },
     "output_type": "display_data"
    },
    {
     "data": {
      "image/png": "[encoded data removed]",
      "text/plain": [
       "<Figure size 432x288 with 1 Axes>"
      ]
     },
     "metadata": {
      "needs_background": "light"
     },
     "output_type": "display_data"
    },
    {
     "data": {
      "image/png": "[encoded data removed]",
      "text/plain": [
       "<Figure size 432x288 with 1 Axes>"
      ]
     },
     "metadata": {
      "needs_background": "light"
     },
     "output_type": "display_data"
    }
   ],
   "source": [
    "#temperature\n",
    "# n, bins, patches = plt.hist(x=kts, bins='auto', color='#0504aa',\n",
    "#                             alpha=0.7, rwidth=0.85)\n",
    "#plt.xlabel('temperature (keV)')\n",
    "# plt.ylabel('Frequecy')\n",
    "# plt.title('Absorbed thermal temperature')\n",
    "# plt.text(0.1,15,f'$\\mu={{{np.average(kts):.3f}}}, \\sigma={{{np.std(kts):.3f}}}$')\n",
    "# plt.show();\n",
    "\n",
    "#ems\n",
    "n, bins, patches = plt.hist(x=ems, bins='auto', color='#0504aa',\n",
    "                            alpha=0.7, rwidth=0.85)\n",
    "plt.xlabel('normalization (x10$^5$)')\n",
    "plt.ylabel('Frequecy')\n",
    "plt.title('Absorbed thermal Emission Measure')\n",
    "plt.text(0.01,20,f'$\\mu={{{np.average(ems):.3f}}}, \\sigma={{{np.std(ems):.3f}}}$')\n",
    "plt.show();\n",
    "\n",
    "#power law index\n",
    "n, bins, patches = plt.hist(x=inds, bins='auto', color='#0504aa',\n",
    "                            alpha=0.7, rwidth=0.85)\n",
    "plt.xlabel('photon index')\n",
    "plt.ylabel('Frequecy')\n",
    "plt.title('power law index')\n",
    "plt.text(2.5,20,f'$\\mu={{{np.average(inds):.3f}}}, \\sigma={{{np.std(inds):.3f}}}$')\n",
    "plt.show();\n",
    "\n",
    "#power law normalization\n",
    "n, bins, patches = plt.hist(x=pnorms, bins='auto', color='#0504aa',\n",
    "                            alpha=0.7, rwidth=0.85)\n",
    "plt.xlabel('normalization (x10$^5$)')\n",
    "plt.ylabel('Frequecy')\n",
    "plt.title('power law normalization')\n",
    "plt.text(8e-5,15,f'$\\mu={{{np.average(pnorms)}}}, \\sigma={{{np.std(pnorms)}}}$')\n",
    "plt.show();"
   ]
  },
  {
   "cell_type": "markdown",
   "metadata": {},
   "source": [
    "## standardize"
   ]
  },
  {
   "cell_type": "code",
   "execution_count": 56,
   "metadata": {},
   "outputs": [],
   "source": [
    "#kts_sd = standardize(kts)\n",
    "ems_sd = standardize(ems)\n",
    "inds_sd = standardize(inds)\n",
    "pnorms_sd = standardize(pnorms)"
   ]
  },
  {
   "cell_type": "code",
   "execution_count": 76,
   "metadata": {},
   "outputs": [
    {
     "data": {
      "image/png": "[encoded data removed]",
      "text/plain": [
       "<Figure size 432x288 with 1 Axes>"
      ]
     },
     "metadata": {
      "needs_background": "light"
     },
     "output_type": "display_data"
    }
   ],
   "source": [
    "#plt.hist(x=np.array(kts_sd), bins='auto', alpha=0.7, lw=2, label='kT',histtype='step',density=False)\n",
    "plt.hist(x=np.array(ems_sd), bins='auto', alpha=0.7, lw=2, label='EM',histtype='step',density=False)\n",
    "plt.hist(x=np.array(inds_sd), bins='auto', alpha=0.7, lw=2, label='PhoIndex',histtype='step',density=False)\n",
    "plt.hist(x=np.array(pnorms_sd), bins='auto', alpha=0.7, lw=2, label='Powerlaw Norm',histtype='step',density=False)\n",
    "plt.legend()\n",
    "#plt.figure(figsize=(24,24))\n",
    "plt.xlabel('Reduced chi square')\n",
    "plt.ylabel('Probability Density')\n",
    "plt.title('Fitting Parameters Histogram with T fixed')\n",
    "plt.show();"
   ]
  },
  {
   "cell_type": "markdown",
   "metadata": {},
   "source": [
    "# Heatmap"
   ]
  },
  {
   "cell_type": "markdown",
   "metadata": {},
   "source": [
    "## get values and texts for heatmap"
   ]
  },
  {
   "cell_type": "code",
   "execution_count": 73,
   "metadata": {},
   "outputs": [],
   "source": [
    "values, texts = heatmap_values(regs=regs,z=pnorms)"
   ]
  },
  {
   "cell_type": "code",
   "execution_count": 21,
   "metadata": {},
   "outputs": [
    {
     "data": {
      "text/plain": [
       "array([['0', '1', '2', '3', '4', '5', '6', '7', '8', '9'],\n",
       "       ['10', '11', '12', '13', '14', '15', '16', '17', '18', '19'],\n",
       "       ['20', '21', '22', '23', '24', '25', '26', '27', '28', '29'],\n",
       "       ['30', '31', '32', '33', '34', '35', '36', '37', '38', '39'],\n",
       "       ['40', '41', '42', '43', '44', '45', '46', '47', '48', '49'],\n",
       "       ['50', '51', '52', '53', '54', '55', '56', '57', '58', '59'],\n",
       "       ['60', '61', '62', '63', '64', '65', '66', '67', '68', '69'],\n",
       "       ['70', '71', '72', '73', '74', '75', '76', '77', '78', '79'],\n",
       "       ['80', '81', '82', '83', '84', '85', '86', '87', '88', '89'],\n",
       "       ['90', '91', '92', '93', '94', '95', '96', '97', '98', '99']],\n",
       "      dtype=object)"
      ]
     },
     "execution_count": 21,
     "metadata": {},
     "output_type": "execute_result"
    }
   ],
   "source": [
    "texts"
   ]
  },
  {
   "cell_type": "markdown",
   "metadata": {},
   "source": [
    "## get ra,dec for each region"
   ]
  },
  {
   "cell_type": "code",
   "execution_count": 22,
   "metadata": {},
   "outputs": [],
   "source": [
    "region_file = '/raid2/dxb/xmm/analysis/COSMOS/sicong/region/phase1/region_radec_phs1.reg'\n",
    "ras = list(set([format(float(line.split()[0]), '.2f') for line in open(region_file)]))\n",
    "ras.sort()\n",
    "decs = list(set([format(float(line.split()[1]), '.2f') for line in open(region_file)]))\n",
    "decs.sort()"
   ]
  },
  {
   "cell_type": "code",
   "execution_count": 23,
   "metadata": {},
   "outputs": [
    {
     "data": {
      "text/plain": [
       "['149.37',\n",
       " '149.53',\n",
       " '149.70',\n",
       " '149.87',\n",
       " '150.03',\n",
       " '150.20',\n",
       " '150.37',\n",
       " '150.53',\n",
       " '150.70',\n",
       " '150.87']"
      ]
     },
     "execution_count": 23,
     "metadata": {},
     "output_type": "execute_result"
    }
   ],
   "source": [
    "ras"
   ]
  },
  {
   "cell_type": "code",
   "execution_count": 24,
   "metadata": {},
   "outputs": [
    {
     "data": {
      "text/plain": [
       "['1.47',\n",
       " '1.63',\n",
       " '1.80',\n",
       " '1.97',\n",
       " '2.13',\n",
       " '2.30',\n",
       " '2.47',\n",
       " '2.63',\n",
       " '2.80',\n",
       " '2.97']"
      ]
     },
     "execution_count": 24,
     "metadata": {},
     "output_type": "execute_result"
    }
   ],
   "source": [
    "decs"
   ]
  },
  {
   "cell_type": "markdown",
   "metadata": {},
   "source": [
    "## plot the heatmap"
   ]
  },
  {
   "cell_type": "code",
   "execution_count": 74,
   "metadata": {},
   "outputs": [],
   "source": [
    "heatmap_plot(values=values,ras=ras,decs=decs,\n",
    "             #title='Absorbed Thermal Component Emission Measure (cm<sup>-6</sup>) with temperture fixed = 0.148keV',\n",
    "             title='Powerlaw Norm with temperture fixed = 0.148keV',\n",
    "             xaxis='RA',yaxis='DEC')"
   ]
  },
  {
   "cell_type": "markdown",
   "metadata": {},
   "source": [
    "## plot annotated heatmap"
   ]
  },
  {
   "cell_type": "code",
   "execution_count": 663,
   "metadata": {},
   "outputs": [],
   "source": [
    "values, texts = heatmap_values(regs=regs,z=new_chi)\n",
    "annotated_heatmap(values=values,texts=texts,ras=ras,decs=decs,\n",
    "                  title='Reduced Chi Square',xaxis='RA',yaxis='DEC')"
   ]
  },
  {
   "cell_type": "markdown",
   "metadata": {},
   "source": [
    "## copy heatmap image"
   ]
  },
  {
   "cell_type": "code",
   "execution_count": 75,
   "metadata": {},
   "outputs": [
    {
     "data": {
      "text/plain": [
       "'/raid2/dxb/xmm/analysis/COSMOS/sicong/xspec/phase2/pnorm_fixed_t_phase2.png'"
      ]
     },
     "execution_count": 75,
     "metadata": {},
     "output_type": "execute_result"
    }
   ],
   "source": [
    "src = '/home/sicong/Downloads/'\n",
    "dest = '/raid2/dxb/xmm/analysis/COSMOS/sicong/xspec/phase2'\n",
    "shutil.move(path.join(src,'newplot.png'), path.join(dest,'pnorm_fixed_t_phase2.png'))"
   ]
  },
  {
   "cell_type": "code",
   "execution_count": 30,
   "metadata": {
    "scrolled": true
   },
   "outputs": [
    {
     "name": "stdout",
     "output_type": "stream",
     "text": [
      "Variable            Type                          Data/Info\n",
      "-----------------------------------------------------------\n",
      "DIR                 str                           /raid2/dxb/xmm/analysis/C<...>SMOS/sicong/xspec/phase2/\n",
      "Gaussian2DKernel    type                          <class 'astropy.convoluti<...>ernels.Gaussian2DKernel'>\n",
      "Point               type                          <class 'shapely.geometry.point.Point'>\n",
      "annotated_heatmap   function                      <function annotated_heatmap at 0x7f861e4f03a0>\n",
      "ascii               module                        <module 'astropy.io.ascii<...>py/io/ascii/__init__.py'>\n",
      "attrgetter          type                          <class 'operator.attrgetter'>\n",
      "bad_names           dict                          n=100\n",
      "bad_regs            list                          n=9\n",
      "box                 function                      <function box at 0x7f863c2d8ee0>\n",
      "convolve            function                      <function convolve at 0x7f861f33fee0>\n",
      "decs                list                          n=10\n",
      "dest                str                           /raid2/dxb/xmm/analysis/C<...>OSMOS/sicong/xspec/phase2\n",
      "em                  float                         0.006003505347385326\n",
      "ems                 ndarray                       85: 85 elems, type `float64`, 680 bytes\n",
      "f                   TextIOWrapper                 <_io.TextIOWrapper name='<...>ode='r' encoding='UTF-8'>\n",
      "ff                  module                        <module 'plotly.figure_fa<...>ure_factory/__init__.py'>\n",
      "fits                module                        <module 'astropy.io.fits'<...>opy/io/fits/__init__.py'>\n",
      "get_grids           function                      <function get_grids at 0x7f864c860550>\n",
      "glob                module                        <module 'glob' from '/hom<...>3/lib/python3.8/glob.py'>\n",
      "go                  module                        <module 'plotly.graph_obj<...>aph_objects/__init__.py'>\n",
      "heatmap_plot        function                      <function heatmap_plot at 0x7f861e4f00d0>\n",
      "heatmap_values      function                      <function heatmap_values at 0x7f861e4e4670>\n",
      "i                   int                           244\n",
      "ind                 float                         0.803163\n",
      "inds                ndarray                       85: 85 elems, type `float64`, 680 bytes\n",
      "itemgetter          type                          <class 'operator.itemgetter'>\n",
      "kt                  float                         0.14927\n",
      "kts                 ndarray                       85: 85 elems, type `float64`, 680 bytes\n",
      "line                str                           0203360101 : 0.12538194428395558\\n\n",
      "lines               list                          n=245\n",
      "listdir             builtin_function_or_method    <built-in function listdir>\n",
      "math                module                        <module 'math' from '/hom<...>-38-x86_64-linux-gnu.so'>\n",
      "name                str                           0302350101\n",
      "names               list                          n=55\n",
      "new                 str                           /0302350101-pnS005-back-phs1-reg98-new.pi\n",
      "norm                float                         1.56112e-05\n",
      "np                  module                        <module 'numpy' from '/ho<...>kages/numpy/__init__.py'>\n",
      "old                 str                           /0302350101-pnS005-back-phs1-reg98.pi\n",
      "os                  module                        <module 'os' from '/home/<...>da3/lib/python3.8/os.py'>\n",
      "path                module                        <module 'posixpath' from <...>/python3.8/posixpath.py'>\n",
      "pathlib             module                        <module 'pathlib' from '/<...>ib/python3.8/pathlib.py'>\n",
      "pd                  module                        <module 'pandas' from '/h<...>ages/pandas/__init__.py'>\n",
      "plot                function                      <function plot at 0x7f8624d05af0>\n",
      "plot_model          function                      <function plot_model at 0x7f861e4e4b80>\n",
      "plot_spectra        function                      <function plot_spectra at 0x7f864c8bc700>\n",
      "plt                 module                        <module 'matplotlib.pyplo<...>es/matplotlib/pyplot.py'>\n",
      "pn                  float                         8.48910109089928e-05\n",
      "pnorm               float                         1.06438e-05\n",
      "pnorms              ndarray                       85: 85 elems, type `float64`, 680 bytes\n",
      "ras                 list                          n=10\n",
      "ratio               float                         0.12538194428395558\n",
      "read_fit            function                      <function read_fit at 0x7f864fb2ac10>\n",
      "read_spectra        function                      <function read_spectra at 0x7f861e4f0700>\n",
      "reg                 int                           98\n",
      "reg_area            float                         8.461611361574806e-06\n",
      "region              function                      <function region at 0x7f861e4e4940>\n",
      "region_file         str                           /raid2/dxb/xmm/analysis/C<...>se1/region_radec_phs1.reg\n",
      "regs                list                          n=85\n",
      "shutil              module                        <module 'shutil' from '/h<...>lib/python3.8/shutil.py'>\n",
      "sns                 module                        <module 'seaborn' from '/<...>ges/seaborn/__init__.py'>\n",
      "src                 str                           /home/sicong/Downloads/\n",
      "standardize         function                      <function standardize at 0x7f861e4e48b0>\n",
      "stats               module                        <module 'scipy.stats' fro<...>scipy/stats/__init__.py'>\n",
      "test_file_exist     function                      <function test_file_exist at 0x7f864c860430>\n",
      "test_names          list                          n=0\n",
      "texts               ndarray                       10x10: 100 elems, type `object`, 800 bytes\n",
      "unary_union         method                        <bound method CollectionO<...>bject at 0x7f863c25cf40>>\n",
      "values              ndarray                       10x10: 100 elems, type `float64`, 800 bytes\n",
      "wcs                 module                        <module 'astropy.wcs' fro<...>astropy/wcs/__init__.py'>\n",
      "zeros               list                          n=7\n"
     ]
    }
   ],
   "source": [
    "%whos "
   ]
  },
  {
   "cell_type": "code",
   "execution_count": null,
   "metadata": {},
   "outputs": [],
   "source": []
  }
 ],
 "metadata": {
  "kernelspec": {
   "display_name": "Python 3",
   "language": "python",
   "name": "python3"
  },
  "language_info": {
   "codemirror_mode": {
    "name": "ipython",
    "version": 3
   },
   "file_extension": ".py",
   "mimetype": "text/x-python",
   "name": "python",
   "nbconvert_exporter": "python",
   "pygments_lexer": "ipython3",
   "version": "3.8.3"
  },
  "toc": {
   "base_numbering": 1,
   "nav_menu": {},
   "number_sections": true,
   "sideBar": true,
   "skip_h1_title": false,
   "title_cell": "Table of Contents",
   "title_sidebar": "Contents",
   "toc_cell": false,
   "toc_position": {
    "height": "calc(100% - 180px)",
    "left": "10px",
    "top": "150px",
    "width": "320px"
   },
   "toc_section_display": true,
   "toc_window_display": true
  }
 },
 "nbformat": 4,
 "nbformat_minor": 4
}
