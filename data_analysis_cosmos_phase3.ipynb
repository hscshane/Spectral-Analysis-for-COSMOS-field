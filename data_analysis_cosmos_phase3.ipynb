{
 "cells": [
  {
   "cell_type": "markdown",
   "metadata": {},
   "source": [
    "# IMPORT"
   ]
  },
  {
   "cell_type": "code",
   "execution_count": 149,
   "metadata": {},
   "outputs": [],
   "source": [
    "import os\n",
    "from os import path\n",
    "import glob\n",
    "import shutil\n",
    "from astropy.io import ascii, fits\n",
    "import numpy as np\n",
    "import pandas as pd\n",
    "import seaborn as sns\n",
    "from astropy.io import fits"
   ]
  },
  {
   "cell_type": "markdown",
   "metadata": {},
   "source": [
    "# Define Pointing Names"
   ]
  },
  {
   "cell_type": "code",
   "execution_count": 96,
   "metadata": {},
   "outputs": [],
   "source": [
    "DIR = '/raid2/dxb/xmm/analysis/COSMOS/sicong'\n",
    "names = [name for name in os.listdir(DIR) if '0' in name and len(name) == 10]\n",
    "bads = ['0203361601', '0203362001', '0203362301', '0203362501', '0302352001', '0302352201', '0302352301', '0302352401']\n",
    "names.sort()"
   ]
  },
  {
   "cell_type": "markdown",
   "metadata": {},
   "source": [
    "## remove bad pointing 0302352401"
   ]
  },
  {
   "cell_type": "code",
   "execution_count": 97,
   "metadata": {},
   "outputs": [],
   "source": [
    "for bad in bad_names:\n",
    "    if bad in names:\n",
    "        names.remove(bad)"
   ]
  },
  {
   "cell_type": "code",
   "execution_count": 98,
   "metadata": {},
   "outputs": [
    {
     "name": "stdout",
     "output_type": "stream",
     "text": [
      "['0203360101', '0203360201', '0203360301', '0203360401', '0203360501', '0203360601', '0203360701', '0203360801', '0203360901', '0203361001', '0203361101', '0203361201', '0203361301', '0203361401', '0203361501', '0203361701', '0203361801', '0203361901', '0203362101', '0203362201', '0203362401', '0302350101', '0302350201', '0302350301', '0302350401', '0302350501', '0302350601', '0302350701', '0302350801', '0302350901', '0302351001', '0302351101', '0302351201', '0302351301', '0302351401', '0302351501', '0302351601', '0302351701', '0302351801', '0302351901', '0302352501', '0302353001', '0302353101', '0302353201', '0302353301', '0302353401', '0501170101', '0501170201'] 48\n"
     ]
    }
   ],
   "source": [
    "print(names, len(names))"
   ]
  },
  {
   "cell_type": "code",
   "execution_count": 119,
   "metadata": {},
   "outputs": [
    {
     "name": "stdout",
     "output_type": "stream",
     "text": [
      "['0302352401', '0302351201', '0302350501', '0302350101', '0302351401', '0203360201', '0203361301', '0302350301', '0203361801', '0302353401', '0203360101', '0302351601', '0203361201', '0203362301', '0302350201', '0302353101', '0302353001', '0203361401', '0203361601', '0203360601', '0302352301', '0203360701', '0203362001', '0203361101', '0302350901', '0203361501', '0302351701', '0203362501', '0302351501', '0302352201', '0302352001', '0203360401', '0302350401', '0203360901', '0302350701', '0203360801', '0203361701', '0501170101', '0203362201'] 39\n"
     ]
    }
   ],
   "source": [
    "bad_dict = {0: [], 1: ['0203362501'], 2: [], 3: [], 4: ['0302352301', '0203362301'], 5: [], 6: [], 7: ['0203362201'], 8: [], 9: [], 10: [], 11: [], 12: ['0203362501'], 13: ['0203362301'], 14: ['0203362301'], 15: ['0203362201', '0203362301'], 16: ['0203362201'], 17: ['0203362201'], 18: [], 19: [], 20: ['0203362001', '0203362501', '0302352001', '0501170101'], 21: [], 22: ['0203362501', '0203362001'], 23: ['0203362301'], 24: ['0203362301'], 25: ['0203362301', '0203362201', '0203361801'], 26: ['0203362201', '0203361701', '0302351701', '0302352201'], 27: ['0203361601', '0203362201'], 28: ['0203361601'], 29: ['0302351601'], 30: [], 31: ['0203362501', '0203362001', '0203361501'], 32: ['0203362501', '0203362001'], 33: [], 34: ['0203362301'], 35: ['0203362301'], 36: ['0203361601'], 37: ['0203361601', '0302351601', '0302351701', '0203361701'], 38: ['0203361101', '0203361601'], 39: ['0203361601'], 40: ['0203362001'], 41: ['0203362001'], 42: ['0203361501', '0302351501'], 43: ['0203361401', '0302353401', '0203361301', '0302351401'], 44: [], 45: [], 46: ['0203361701'], 47: ['0203361601', '0203361201', '0302351201', '0203361101'], 48: ['0203361601'], 49: [], 50: [], 51: [], 52: ['0203361501'], 53: [], 54: ['0203361401'], 55: [], 56: ['0203360601'], 57: ['0203360701', '0203361201'], 58: [], 59: ['0203361101'], 60: [], 61: [], 62: [], 63: ['0302350401'], 64: ['0203360801', '0203360901'], 65: ['0203360701'], 66: ['0302350701', '0203360701', '0203360201', '0302350201'], 67: ['0203361101', '0203360701', '0302350101', '0203360101'], 68: ['0302350101'], 69: [], 70: [], 71: ['0302350501'], 72: ['0302350401'], 73: ['0302350401', '0302350901', '0203360401', '0203360901', '0302353001'], 74: ['0302350401', '0302350301', '0203360401'], 75: [], 76: ['0302350301'], 77: ['0302350101'], 78: ['0302350101', '0203360101'], 79: ['0302350101'], 80: [], 81: [], 82: ['0302350401'], 83: ['0302350401'], 84: ['0302350401'], 85: ['0302350301'], 86: ['0302353101'], 87: ['0302350101', '0203360101'], 88: ['0302350101'], 89: ['0302350101'], 90: [], 91: [], 92: [], 93: [], 94: [], 95: ['0302350301', '0302350201'], 96: [], 97: [], 98: [], 99: []}\n",
    "bad_names = []\n",
    "for i in bad_dict.values():\n",
    "    bad_names += i\n",
    "bad_names = list(set(bad_names+['0203361601', '0203362001', '0203362301', '0203362501', '0302352001', '0302352201', '0302352301', '0302352401']))\n",
    "print(bad_names,len(bad_names))"
   ]
  },
  {
   "cell_type": "markdown",
   "metadata": {},
   "source": [
    "# Copy files"
   ]
  },
  {
   "cell_type": "code",
   "execution_count": 9,
   "metadata": {},
   "outputs": [],
   "source": [
    "src = '/raid2/dxb/xmm/analysis/COSMOS/sicong/xspec/'\n",
    "DIR = '/raid2/dxb/xmm/analysis/COSMOS/sicong/xspec/phase3/'\n",
    "for name in names:\n",
    "    shutil.copy2(path.join(src,f'{name}-pnS005-obj-os-full.pi'),DIR)\n",
    "    shutil.copy2(path.join(src,f'{name}-pnS005-back-full.pi'),DIR)\n",
    "    shutil.copy2(path.join(src,f'{name}-pnS005-full.arf'),DIR)\n",
    "    shutil.copy2(path.join(src,f'{name}-pnS005-full.rmf'),DIR)"
   ]
  },
  {
   "cell_type": "code",
   "execution_count": 45,
   "metadata": {},
   "outputs": [],
   "source": [
    "for name in names:\n",
    "    src = f'/raid2/dxb/xmm/analysis/COSMOS/sicong/{name}/analysis/pnS005-back-im-sky-400-7200-full.fits'\n",
    "    fout = f'/raid2/dxb/xmm/analysis/COSMOS/sicong/xspec/phase3/{name}-pnS005-back-im-sky-400-7200-full.fits'\n",
    "    shutil.copy2(src,fout)"
   ]
  },
  {
   "cell_type": "markdown",
   "metadata": {},
   "source": [
    "## change file name (if neccessary)"
   ]
  },
  {
   "cell_type": "code",
   "execution_count": 93,
   "metadata": {},
   "outputs": [
    {
     "name": "stdout",
     "output_type": "stream",
     "text": [
      "/raid2/dxb/xmm/analysis/COSMOS/sicong/xspec/phase3\n"
     ]
    }
   ],
   "source": [
    "%cd '/raid2/dxb/xmm/analysis/COSMOS/sicong/xspec/phase3/'\n",
    "files = glob.glob('first*')\n",
    "for file in files:\n",
    "    os.rename(file,'{}-old.{}'.format(file.split('.')[0],file.split('.')[1]))"
   ]
  },
  {
   "cell_type": "code",
   "execution_count": 94,
   "metadata": {},
   "outputs": [],
   "source": [
    "files = glob.glob('final*')\n",
    "for file in files:\n",
    "    os.rename(file,'{}-old.{}'.format(file.split('.')[0],file.split('.')[1]))"
   ]
  },
  {
   "cell_type": "markdown",
   "metadata": {},
   "source": [
    "# Combine"
   ]
  },
  {
   "cell_type": "markdown",
   "metadata": {},
   "source": [
    "## spectra"
   ]
  },
  {
   "cell_type": "code",
   "execution_count": 100,
   "metadata": {
    "scrolled": true
   },
   "outputs": [
    {
     "name": "stdout",
     "output_type": "stream",
     "text": [
      "\n",
      "mathpha expr=\"'0203360101-pnS005-obj-os-full.pi'+'0203360201-pnS005-obj-os-full.pi'+'0203360301-pnS005-obj-os-full.pi'+'0203360401-pnS005-obj-os-full.pi'+'0203360501-pnS005-obj-os-full.pi'+'0203360601-pnS005-obj-os-full.pi'+'0203360701-pnS005-obj-os-full.pi'+'0203360801-pnS005-obj-os-full.pi'+'0203360901-pnS005-obj-os-full.pi'+'0203361001-pnS005-obj-os-full.pi'\" units='c' outfil='first0.pi' exposure='calc' areascal='%' ncomments=0 properr=yes\n",
      "\n",
      "mathpha expr=\"'0203361101-pnS005-obj-os-full.pi'+'0203361201-pnS005-obj-os-full.pi'+'0203361301-pnS005-obj-os-full.pi'+'0203361401-pnS005-obj-os-full.pi'+'0203361501-pnS005-obj-os-full.pi'+'0203361701-pnS005-obj-os-full.pi'+'0203361801-pnS005-obj-os-full.pi'+'0203361901-pnS005-obj-os-full.pi'+'0203362101-pnS005-obj-os-full.pi'+'0203362201-pnS005-obj-os-full.pi'\" units='c' outfil='first1.pi' exposure='calc' areascal='%' ncomments=0 properr=yes\n",
      "\n",
      "mathpha expr=\"'0203362401-pnS005-obj-os-full.pi'+'0302350101-pnS005-obj-os-full.pi'+'0302350201-pnS005-obj-os-full.pi'+'0302350301-pnS005-obj-os-full.pi'+'0302350401-pnS005-obj-os-full.pi'+'0302350501-pnS005-obj-os-full.pi'+'0302350601-pnS005-obj-os-full.pi'+'0302350701-pnS005-obj-os-full.pi'+'0302350801-pnS005-obj-os-full.pi'+'0302350901-pnS005-obj-os-full.pi'\" units='c' outfil='first2.pi' exposure='calc' areascal='%' ncomments=0 properr=yes\n",
      "\n",
      "mathpha expr=\"'0302351001-pnS005-obj-os-full.pi'+'0302351101-pnS005-obj-os-full.pi'+'0302351201-pnS005-obj-os-full.pi'+'0302351301-pnS005-obj-os-full.pi'+'0302351401-pnS005-obj-os-full.pi'+'0302351501-pnS005-obj-os-full.pi'+'0302351601-pnS005-obj-os-full.pi'+'0302351701-pnS005-obj-os-full.pi'+'0302351801-pnS005-obj-os-full.pi'+'0302351901-pnS005-obj-os-full.pi'\" units='c' outfil='first3.pi' exposure='calc' areascal='%' ncomments=0 properr=yes\n",
      "\n",
      "mathpha expr=\"'0302352501-pnS005-obj-os-full.pi'+'0302353001-pnS005-obj-os-full.pi'+'0302353101-pnS005-obj-os-full.pi'+'0302353201-pnS005-obj-os-full.pi'+'0302353301-pnS005-obj-os-full.pi'+'0302353401-pnS005-obj-os-full.pi'+'0501170101-pnS005-obj-os-full.pi'+'0501170201-pnS005-obj-os-full.pi'\" units='c' outfil='first4.pi' exposure='calc' areascal='%' ncomments=0 properr=yes\n",
      "\n",
      "mathpha expr=\"'first0.pi'+'first1.pi'+'first2.pi'+'first3.pi'+'first4.pi'\" units='c' outfil='final.pi' exposure='calc' areascal='%' ncomments=0 properr=yes\n"
     ]
    }
   ],
   "source": [
    "for i in range(0,40,10):\n",
    "    print('\\nmathpha expr=\"',end='')\n",
    "    for k in range(9): \n",
    "        print(f\"'{names[i+k]}-pnS005-obj-os-full.pi'+\",end='')\n",
    "    print(f\"'{names[i+9]}-pnS005-obj-os-full.pi'\",end='\" ')\n",
    "    print(f\"units='c' outfil='first{i//10}.pi' exposure='calc' areascal='%' ncomments=0 properr=yes\")\n",
    "    \n",
    "print('\\nmathpha expr=\"',end='')\n",
    "for i in range(40,47):\n",
    "    print(f\"'{names[i]}-pnS005-obj-os-full.pi'+\",end='')\n",
    "print(f\"'{names[47]}-pnS005-obj-os-full.pi'\",end='\" ')\n",
    "print(\"units='c' outfil='first4.pi' exposure='calc' areascal='%' ncomments=0 properr=yes\")\n",
    "\n",
    "print('\\nmathpha expr=\"',end='')\n",
    "for i in range(0,4):\n",
    "    print(f\"'first{i}.pi'+\",end='')\n",
    "print(f\"'first4.pi'\",end='\" ')\n",
    "print(\"units='c' outfil='final.pi' exposure='calc' areascal='%' ncomments=0 properr=yes\")"
   ]
  },
  {
   "cell_type": "markdown",
   "metadata": {},
   "source": [
    "## background"
   ]
  },
  {
   "cell_type": "code",
   "execution_count": 101,
   "metadata": {
    "scrolled": true
   },
   "outputs": [
    {
     "name": "stdout",
     "output_type": "stream",
     "text": [
      "\n",
      "mathpha expr=\"'0203360101-pnS005-back-full.pi'+'0203360201-pnS005-back-full.pi'+'0203360301-pnS005-back-full.pi'+'0203360401-pnS005-back-full.pi'+'0203360501-pnS005-back-full.pi'+'0203360601-pnS005-back-full.pi'+'0203360701-pnS005-back-full.pi'+'0203360801-pnS005-back-full.pi'+'0203360901-pnS005-back-full.pi'+'0203361001-pnS005-back-full.pi'\" units='c' outfil='firstback0.pi' exposure='calc' areascal='%' ncomments=0 properr=yes\n",
      "\n",
      "mathpha expr=\"'0203361101-pnS005-back-full.pi'+'0203361201-pnS005-back-full.pi'+'0203361301-pnS005-back-full.pi'+'0203361401-pnS005-back-full.pi'+'0203361501-pnS005-back-full.pi'+'0203361701-pnS005-back-full.pi'+'0203361801-pnS005-back-full.pi'+'0203361901-pnS005-back-full.pi'+'0203362101-pnS005-back-full.pi'+'0203362201-pnS005-back-full.pi'\" units='c' outfil='firstback1.pi' exposure='calc' areascal='%' ncomments=0 properr=yes\n",
      "\n",
      "mathpha expr=\"'0203362401-pnS005-back-full.pi'+'0302350101-pnS005-back-full.pi'+'0302350201-pnS005-back-full.pi'+'0302350301-pnS005-back-full.pi'+'0302350401-pnS005-back-full.pi'+'0302350501-pnS005-back-full.pi'+'0302350601-pnS005-back-full.pi'+'0302350701-pnS005-back-full.pi'+'0302350801-pnS005-back-full.pi'+'0302350901-pnS005-back-full.pi'\" units='c' outfil='firstback2.pi' exposure='calc' areascal='%' ncomments=0 properr=yes\n",
      "\n",
      "mathpha expr=\"'0302351001-pnS005-back-full.pi'+'0302351101-pnS005-back-full.pi'+'0302351201-pnS005-back-full.pi'+'0302351301-pnS005-back-full.pi'+'0302351401-pnS005-back-full.pi'+'0302351501-pnS005-back-full.pi'+'0302351601-pnS005-back-full.pi'+'0302351701-pnS005-back-full.pi'+'0302351801-pnS005-back-full.pi'+'0302351901-pnS005-back-full.pi'\" units='c' outfil='firstback3.pi' exposure='calc' areascal='%' ncomments=0 properr=yes\n",
      "\n",
      "mathpha expr=\"'0302352501-pnS005-back-full.pi'+'0302353001-pnS005-back-full.pi'+'0302353101-pnS005-back-full.pi'+'0302353201-pnS005-back-full.pi'+'0302353301-pnS005-back-full.pi'+'0302353401-pnS005-back-full.pi'+'0501170101-pnS005-back-full.pi'+'0501170201-pnS005-back-full.pi'\" units='c' outfil='firstback4.pi' exposure='calc' areascal='%' ncomments=0 properr=yes\n",
      "\n",
      "mathpha expr=\"'firstback0.pi'+'firstback1.pi'+'firstback2.pi'+'firstback3.pi'+'first4.pi'\" units='c' outfil='finalback.pi' exposure='calc' areascal='%' ncomments=0 properr=yes\n"
     ]
    }
   ],
   "source": [
    "for i in range(0,40,10):\n",
    "    print('\\nmathpha expr=\"',end='')\n",
    "    for k in range(9): \n",
    "        print(f\"'{names[i+k]}-pnS005-back-full.pi'+\",end='')\n",
    "    print(f\"'{names[i+9]}-pnS005-back-full.pi'\",end='\" ')\n",
    "    print(f\"units='c' outfil='firstback{i//10}.pi' exposure='calc' areascal='%' ncomments=0 properr=yes\")\n",
    "    \n",
    "print('\\nmathpha expr=\"',end='')\n",
    "for i in range(40,47):\n",
    "    print(f\"'{names[i]}-pnS005-back-full.pi'+\",end='')\n",
    "print(f\"'{names[47]}-pnS005-back-full.pi'\",end='\" ')\n",
    "print(\"units='c' outfil='firstback4.pi' exposure='calc' areascal='%' ncomments=0 properr=yes\")\n",
    "\n",
    "print('\\nmathpha expr=\"',end='')\n",
    "for i in range(0,4):\n",
    "    print(f\"'firstback{i}.pi'+\",end='')\n",
    "print(f\"'first4.pi'\",end='\" ')\n",
    "print(\"units='c' outfil='finalback.pi' exposure='calc' areascal='%' ncomments=0 properr=yes\")"
   ]
  },
  {
   "cell_type": "markdown",
   "metadata": {},
   "source": [
    "## arf"
   ]
  },
  {
   "cell_type": "code",
   "execution_count": 103,
   "metadata": {},
   "outputs": [
    {
     "name": "stdout",
     "output_type": "stream",
     "text": [
      "\n",
      "addarf 0203360101-pnS005-full.arf,0203360201-pnS005-full.arf,0203360301-pnS005-full.arf,0203360401-pnS005-full.arf,0203360501-pnS005-full.arf,0203360601-pnS005-full.arf,0203360701-pnS005-full.arf,0203360801-pnS005-full.arf,0203360901-pnS005-full.arf,0203361001-pnS005-full.arf 0.1,0.1,0.1,0.1,0.1,0.1,0.1,0.1,0.1,0.1 first0.arf\n",
      "\n",
      "addarf 0203361101-pnS005-full.arf,0203361201-pnS005-full.arf,0203361301-pnS005-full.arf,0203361401-pnS005-full.arf,0203361501-pnS005-full.arf,0203361701-pnS005-full.arf,0203361801-pnS005-full.arf,0203361901-pnS005-full.arf,0203362101-pnS005-full.arf,0203362201-pnS005-full.arf 0.1,0.1,0.1,0.1,0.1,0.1,0.1,0.1,0.1,0.1 first1.arf\n",
      "\n",
      "addarf 0203362401-pnS005-full.arf,0302350101-pnS005-full.arf,0302350201-pnS005-full.arf,0302350301-pnS005-full.arf,0302350401-pnS005-full.arf,0302350501-pnS005-full.arf,0302350601-pnS005-full.arf,0302350701-pnS005-full.arf,0302350801-pnS005-full.arf,0302350901-pnS005-full.arf 0.1,0.1,0.1,0.1,0.1,0.1,0.1,0.1,0.1,0.1 first2.arf\n",
      "\n",
      "addarf 0302351001-pnS005-full.arf,0302351101-pnS005-full.arf,0302351201-pnS005-full.arf,0302351301-pnS005-full.arf,0302351401-pnS005-full.arf,0302351501-pnS005-full.arf,0302351601-pnS005-full.arf,0302351701-pnS005-full.arf,0302351801-pnS005-full.arf,0302351901-pnS005-full.arf 0.1,0.1,0.1,0.1,0.1,0.1,0.1,0.1,0.1,0.1 first3.arf\n",
      "\n",
      "addarf 0302352501-pnS005-full.arf,0302353001-pnS005-full.arf,0302353101-pnS005-full.arf,0302353201-pnS005-full.arf,0302353301-pnS005-full.arf,0302353401-pnS005-full.arf,0501170101-pnS005-full.arf,0501170201-pnS005-full.arf 0.125,0.125,0.125,0.125,0.125,0.125,0.125,0.125 first4.arf\n",
      "\n",
      "addarf first0.arf,first1.arf,first2.arf,first3.arf,first4.arf 0.2,0.2,0.2,0.2,0.2 final.arf\n"
     ]
    }
   ],
   "source": [
    "for i in range(0,40,10):\n",
    "    print('\\naddarf',end=' ')\n",
    "    for k in range(9): \n",
    "        print(f\"{names[i+k]}-pnS005-full.arf,\",end='')\n",
    "    print(f\"{names[i+9]}-pnS005-full.arf\",end=' ')\n",
    "    print('0.1,0.1,0.1,0.1,0.1,0.1,0.1,0.1,0.1,0.1',end=' ')\n",
    "    print(f\"first{i//10}.arf\")\n",
    "    \n",
    "print('\\naddarf',end=' ')\n",
    "for i in range(40,47):\n",
    "    print(f\"{names[i]}-pnS005-full.arf,\",end='')\n",
    "print(f\"{names[47]}-pnS005-full.arf\",end=' ')\n",
    "#print('0.2,0.2,0.2,0.2,0.2',end=' ')\n",
    "print('0.125,0.125,0.125,0.125,0.125,0.125,0.125,0.125',end=' ')\n",
    "print(\"first4.arf\")\n",
    "\n",
    "print('\\naddarf',end=' ')\n",
    "for i in range(0,4):\n",
    "    print(f\"first{i}.arf,\",end='')\n",
    "print(f\"first4.arf\",end=' ')\n",
    "#print('0.16666666666666666,0.16666666666666666,0.16666666666666666,0.16666666666666666,0.16666666666666666,0.16666666666666666',end=' ')\n",
    "print('0.2,0.2,0.2,0.2,0.2',end=' ')\n",
    "print(\"final.arf\")"
   ]
  },
  {
   "cell_type": "markdown",
   "metadata": {},
   "source": [
    "## rmf"
   ]
  },
  {
   "cell_type": "code",
   "execution_count": 104,
   "metadata": {},
   "outputs": [
    {
     "name": "stdout",
     "output_type": "stream",
     "text": [
      "\n",
      "addrmf 0203360101-pnS005-full.rmf,0203360201-pnS005-full.rmf,0203360301-pnS005-full.rmf,0203360401-pnS005-full.rmf,0203360501-pnS005-full.rmf,0203360601-pnS005-full.rmf,0203360701-pnS005-full.rmf,0203360801-pnS005-full.rmf,0203360901-pnS005-full.rmf,0203361001-pnS005-full.rmf 0.1,0.1,0.1,0.1,0.1,0.1,0.1,0.1,0.1,0.1 first0.rmf\n",
      "\n",
      "addrmf 0203361101-pnS005-full.rmf,0203361201-pnS005-full.rmf,0203361301-pnS005-full.rmf,0203361401-pnS005-full.rmf,0203361501-pnS005-full.rmf,0203361701-pnS005-full.rmf,0203361801-pnS005-full.rmf,0203361901-pnS005-full.rmf,0203362101-pnS005-full.rmf,0203362201-pnS005-full.rmf 0.1,0.1,0.1,0.1,0.1,0.1,0.1,0.1,0.1,0.1 first1.rmf\n",
      "\n",
      "addrmf 0203362401-pnS005-full.rmf,0302350101-pnS005-full.rmf,0302350201-pnS005-full.rmf,0302350301-pnS005-full.rmf,0302350401-pnS005-full.rmf,0302350501-pnS005-full.rmf,0302350601-pnS005-full.rmf,0302350701-pnS005-full.rmf,0302350801-pnS005-full.rmf,0302350901-pnS005-full.rmf 0.1,0.1,0.1,0.1,0.1,0.1,0.1,0.1,0.1,0.1 first2.rmf\n",
      "\n",
      "addrmf 0302351001-pnS005-full.rmf,0302351101-pnS005-full.rmf,0302351201-pnS005-full.rmf,0302351301-pnS005-full.rmf,0302351401-pnS005-full.rmf,0302351501-pnS005-full.rmf,0302351601-pnS005-full.rmf,0302351701-pnS005-full.rmf,0302351801-pnS005-full.rmf,0302351901-pnS005-full.rmf 0.1,0.1,0.1,0.1,0.1,0.1,0.1,0.1,0.1,0.1 first3.rmf\n",
      "\n",
      "addrmf 0302352501-pnS005-full.rmf,0302353001-pnS005-full.rmf,0302353101-pnS005-full.rmf,0302353201-pnS005-full.rmf,0302353301-pnS005-full.rmf,0302353401-pnS005-full.rmf,0501170101-pnS005-full.rmf,0501170201-pnS005-full.rmf 0.125,0.125,0.125,0.125,0.125,0.125,0.125,0.125 first4.rmf\n",
      "\n",
      "addrmf first0.rmf,first1.rmf,first2.rmf,first3.rmf,first4.rmf 0.2,0.2,0.2,0.2,0.2 final.rmf\n"
     ]
    }
   ],
   "source": [
    "for i in range(0,40,10):\n",
    "    print('\\naddrmf',end=' ')\n",
    "    for k in range(9): \n",
    "        print(f\"{names[i+k]}-pnS005-full.rmf,\",end='')\n",
    "    print(f\"{names[i+9]}-pnS005-full.rmf\",end=' ')\n",
    "    print('0.1,0.1,0.1,0.1,0.1,0.1,0.1,0.1,0.1,0.1',end=' ')\n",
    "    print(f\"first{i//10}.rmf\")\n",
    "    \n",
    "print('\\naddrmf',end=' ')\n",
    "for i in range(40,47):\n",
    "    print(f\"{names[i]}-pnS005-full.rmf,\",end='')\n",
    "print(f\"{names[47]}-pnS005-full.rmf\",end=' ')\n",
    "#print('0.2,0.2,0.2,0.2,0.2',end=' ')\n",
    "print('0.125,0.125,0.125,0.125,0.125,0.125,0.125,0.125',end=' ')\n",
    "print(\"first4.rmf\")\n",
    "\n",
    "print('\\naddrmf',end=' ')\n",
    "for i in range(0,4):\n",
    "    print(f\"first{i}.rmf,\",end='')\n",
    "print(f\"first4.rmf\",end=' ')\n",
    "#print('0.16666666666666666,0.16666666666666666,0.16666666666666666,0.16666666666666666,0.16666666666666666,0.16666666666666666',end=' ')\n",
    "print('0.2,0.2,0.2,0.2,0.2',end=' ')\n",
    "print(\"final.rmf\")"
   ]
  },
  {
   "cell_type": "markdown",
   "metadata": {},
   "source": [
    "## grppha"
   ]
  },
  {
   "cell_type": "code",
   "execution_count": 29,
   "metadata": {},
   "outputs": [
    {
     "name": "stdout",
     "output_type": "stream",
     "text": [
      "grppha infile=\"final.pi\" outfile=\"final-grp.pi\" comm=\"group min 25&chkey RESPFILE final.rmf&chkey ANCRFILE final.arf&chkey BACKFILE finalback.pi&exit\"\n"
     ]
    }
   ],
   "source": [
    "print('grppha infile=\"final.pi\" \\\n",
    "outfile=\"final-grp.pi\" comm=\"group min 25&chkey \\\n",
    "RESPFILE final.rmf&chkey \\\n",
    "ANCRFILE final.arf&chkey BACKFILE finalback.pi&exit\"')"
   ]
  },
  {
   "cell_type": "markdown",
   "metadata": {},
   "source": [
    "## backscale"
   ]
  },
  {
   "cell_type": "code",
   "execution_count": 31,
   "metadata": {},
   "outputs": [
    {
     "name": "stdout",
     "output_type": "stream",
     "text": [
      "\n",
      "da final-grp.pi\n",
      "\n",
      "ignore 1:0.-10. 14.-**\n",
      "\n",
      "tclout rate 1\n",
      "scan $xspec_tclout \"%f\" temp\n",
      "\n",
      "backgrnd none \n",
      "tclout rate 1 \n",
      "scan $xspec_tclout \"%f\" sr\n",
      "\n",
      "backgrnd finalback.pi\n",
      "\n",
      "tclout backscal 1 s\n",
      "scan $xspec_tclout \"%f\" sb\n",
      "tclout backscal 1 b\n",
      "scan $xspec_tclout \"%f\" bbo\n",
      "\n",
      "set br [expr ($sr-$temp)*($bbo/$sb)]\n",
      "set bb [expr $br*$sb/$sr]\n",
      "\n",
      "grppha infile=\"finalback.pi\" outfile=\"finalback-new.pi\" comm=\"CHKEY BACKSCAL $bb & exit\"\n",
      "\n"
     ]
    }
   ],
   "source": [
    "print(\"\"\"\n",
    "da final-grp.pi\n",
    "\n",
    "ignore 1:0.-10. 14.-**\n",
    "\n",
    "tclout rate 1\n",
    "scan $xspec_tclout \"%f\" temp\n",
    "\n",
    "backgrnd none \n",
    "tclout rate 1 \n",
    "scan $xspec_tclout \"%f\" sr\n",
    "\n",
    "backgrnd finalback.pi\n",
    "\n",
    "tclout backscal 1 s\n",
    "scan $xspec_tclout \"%f\" sb\n",
    "tclout backscal 1 b\n",
    "scan $xspec_tclout \"%f\" bbo\n",
    "\n",
    "set br [expr ($sr-$temp)*($bbo/$sb)]\n",
    "set bb [expr $br*$sb/$sr]\n",
    "\n",
    "grppha infile=\"finalback.pi\" outfile=\"finalback-new.pi\" comm=\"CHKEY BACKSCAL $bb & exit\"\n",
    "\"\"\")"
   ]
  },
  {
   "cell_type": "code",
   "execution_count": 36,
   "metadata": {},
   "outputs": [
    {
     "name": "stdout",
     "output_type": "stream",
     "text": [
      "mv finalback.pi finalbak-old.pi\n",
      "mv finalback-new.pi finalback.pi\n"
     ]
    }
   ],
   "source": [
    "print(\"mv finalback.pi finalbak-old.pi\")\n",
    "print(\"mv finalback-new.pi finalback.pi\")"
   ]
  },
  {
   "cell_type": "markdown",
   "metadata": {},
   "source": [
    "# Fit"
   ]
  },
  {
   "cell_type": "markdown",
   "metadata": {},
   "source": [
    "## read LHB temperature and EM"
   ]
  },
  {
   "cell_type": "code",
   "execution_count": 39,
   "metadata": {},
   "outputs": [],
   "source": [
    "par_file='/raid2/dxb/xmm/analysis/COSMOS/sicong/rosat_maps/lhb_par_phase1.csv'\n",
    "df=ascii.read(par_file,format='csv')\n",
    "temps=np.array([df[i]['T'] for i in range(100)])\n",
    "ems=np.array([df[i]['EM'] for i in range(100)])"
   ]
  },
  {
   "cell_type": "code",
   "execution_count": 40,
   "metadata": {},
   "outputs": [],
   "source": [
    "temperature = np.sum(temps)/100\n",
    "em = np.sum(ems)/100"
   ]
  },
  {
   "cell_type": "markdown",
   "metadata": {},
   "source": [
    "## get solid angle of the whole field"
   ]
  },
  {
   "cell_type": "markdown",
   "metadata": {},
   "source": [
    "### stack pnS005-back-im-sky-400-7200-full.fits"
   ]
  },
  {
   "cell_type": "code",
   "execution_count": 73,
   "metadata": {
    "scrolled": true
   },
   "outputs": [
    {
     "name": "stderr",
     "output_type": "stream",
     "text": [
      "WARNING: FITSFixedWarning: RADECSYS= 'FK5 ' / Equatorial system reference \n",
      "the RADECSYS keyword is deprecated, use RADESYSa. [astropy.wcs.wcs]\n",
      "WARNING: FITSFixedWarning: RADECSYS= 'FK5 ' / Equatorial system reference \n",
      "the RADECSYS keyword is deprecated, use RADESYSa. [astropy.wcs.wcs]\n",
      "WARNING: FITSFixedWarning: RADECSYS= 'FK5 ' / Equatorial system reference \n",
      "the RADECSYS keyword is deprecated, use RADESYSa. [astropy.wcs.wcs]\n",
      "WARNING: FITSFixedWarning: RADECSYS= 'FK5 ' / Equatorial system reference \n",
      "the RADECSYS keyword is deprecated, use RADESYSa. [astropy.wcs.wcs]\n",
      "WARNING: FITSFixedWarning: RADECSYS= 'FK5 ' / Equatorial system reference \n",
      "the RADECSYS keyword is deprecated, use RADESYSa. [astropy.wcs.wcs]\n",
      "WARNING: FITSFixedWarning: RADECSYS= 'FK5 ' / Equatorial system reference \n",
      "the RADECSYS keyword is deprecated, use RADESYSa. [astropy.wcs.wcs]\n",
      "WARNING: FITSFixedWarning: RADECSYS= 'FK5 ' / Equatorial system reference \n",
      "the RADECSYS keyword is deprecated, use RADESYSa. [astropy.wcs.wcs]\n",
      "WARNING: FITSFixedWarning: RADECSYS= 'FK5 ' / Equatorial system reference \n",
      "the RADECSYS keyword is deprecated, use RADESYSa. [astropy.wcs.wcs]\n",
      "WARNING: FITSFixedWarning: RADECSYS= 'FK5 ' / Equatorial system reference \n",
      "the RADECSYS keyword is deprecated, use RADESYSa. [astropy.wcs.wcs]\n",
      "WARNING: FITSFixedWarning: RADECSYS= 'FK5 ' / Equatorial system reference \n",
      "the RADECSYS keyword is deprecated, use RADESYSa. [astropy.wcs.wcs]\n",
      "WARNING: FITSFixedWarning: RADECSYS= 'FK5 ' / Equatorial system reference \n",
      "the RADECSYS keyword is deprecated, use RADESYSa. [astropy.wcs.wcs]\n",
      "WARNING: FITSFixedWarning: RADECSYS= 'FK5 ' / Equatorial system reference \n",
      "the RADECSYS keyword is deprecated, use RADESYSa. [astropy.wcs.wcs]\n",
      "WARNING: FITSFixedWarning: RADECSYS= 'FK5 ' / Equatorial system reference \n",
      "the RADECSYS keyword is deprecated, use RADESYSa. [astropy.wcs.wcs]\n",
      "WARNING: FITSFixedWarning: RADECSYS= 'FK5 ' / Equatorial system reference \n",
      "the RADECSYS keyword is deprecated, use RADESYSa. [astropy.wcs.wcs]\n",
      "WARNING: FITSFixedWarning: RADECSYS= 'FK5 ' / Equatorial system reference \n",
      "the RADECSYS keyword is deprecated, use RADESYSa. [astropy.wcs.wcs]\n",
      "WARNING: FITSFixedWarning: RADECSYS= 'FK5 ' / Equatorial system reference \n",
      "the RADECSYS keyword is deprecated, use RADESYSa. [astropy.wcs.wcs]\n",
      "WARNING: FITSFixedWarning: RADECSYS= 'FK5 ' / Equatorial system reference \n",
      "the RADECSYS keyword is deprecated, use RADESYSa. [astropy.wcs.wcs]\n",
      "WARNING: FITSFixedWarning: RADECSYS= 'FK5 ' / Equatorial system reference \n",
      "the RADECSYS keyword is deprecated, use RADESYSa. [astropy.wcs.wcs]\n",
      "WARNING: FITSFixedWarning: RADECSYS= 'FK5 ' / Equatorial system reference \n",
      "the RADECSYS keyword is deprecated, use RADESYSa. [astropy.wcs.wcs]\n",
      "WARNING: FITSFixedWarning: RADECSYS= 'FK5 ' / Equatorial system reference \n",
      "the RADECSYS keyword is deprecated, use RADESYSa. [astropy.wcs.wcs]\n",
      "WARNING: FITSFixedWarning: RADECSYS= 'FK5 ' / Equatorial system reference \n",
      "the RADECSYS keyword is deprecated, use RADESYSa. [astropy.wcs.wcs]\n",
      "WARNING: FITSFixedWarning: RADECSYS= 'FK5 ' / Equatorial system reference \n",
      "the RADECSYS keyword is deprecated, use RADESYSa. [astropy.wcs.wcs]\n",
      "WARNING: FITSFixedWarning: RADECSYS= 'FK5 ' / Equatorial system reference \n",
      "the RADECSYS keyword is deprecated, use RADESYSa. [astropy.wcs.wcs]\n",
      "WARNING: FITSFixedWarning: RADECSYS= 'FK5 ' / Equatorial system reference \n",
      "the RADECSYS keyword is deprecated, use RADESYSa. [astropy.wcs.wcs]\n",
      "WARNING: FITSFixedWarning: RADECSYS= 'FK5 ' / Equatorial system reference \n",
      "the RADECSYS keyword is deprecated, use RADESYSa. [astropy.wcs.wcs]\n",
      "WARNING: FITSFixedWarning: RADECSYS= 'FK5 ' / Equatorial system reference \n",
      "the RADECSYS keyword is deprecated, use RADESYSa. [astropy.wcs.wcs]\n",
      "WARNING: FITSFixedWarning: RADECSYS= 'FK5 ' / Equatorial system reference \n",
      "the RADECSYS keyword is deprecated, use RADESYSa. [astropy.wcs.wcs]\n",
      "WARNING: FITSFixedWarning: RADECSYS= 'FK5 ' / Equatorial system reference \n",
      "the RADECSYS keyword is deprecated, use RADESYSa. [astropy.wcs.wcs]\n",
      "WARNING: FITSFixedWarning: RADECSYS= 'FK5 ' / Equatorial system reference \n",
      "the RADECSYS keyword is deprecated, use RADESYSa. [astropy.wcs.wcs]\n",
      "WARNING: FITSFixedWarning: RADECSYS= 'FK5 ' / Equatorial system reference \n",
      "the RADECSYS keyword is deprecated, use RADESYSa. [astropy.wcs.wcs]\n",
      "WARNING: FITSFixedWarning: RADECSYS= 'FK5 ' / Equatorial system reference \n",
      "the RADECSYS keyword is deprecated, use RADESYSa. [astropy.wcs.wcs]\n",
      "WARNING: FITSFixedWarning: RADECSYS= 'FK5 ' / Equatorial system reference \n",
      "the RADECSYS keyword is deprecated, use RADESYSa. [astropy.wcs.wcs]\n",
      "WARNING: FITSFixedWarning: RADECSYS= 'FK5 ' / Equatorial system reference \n",
      "the RADECSYS keyword is deprecated, use RADESYSa. [astropy.wcs.wcs]\n",
      "WARNING: FITSFixedWarning: RADECSYS= 'FK5 ' / Equatorial system reference \n",
      "the RADECSYS keyword is deprecated, use RADESYSa. [astropy.wcs.wcs]\n",
      "WARNING: FITSFixedWarning: RADECSYS= 'FK5 ' / Equatorial system reference \n",
      "the RADECSYS keyword is deprecated, use RADESYSa. [astropy.wcs.wcs]\n",
      "WARNING: FITSFixedWarning: RADECSYS= 'FK5 ' / Equatorial system reference \n",
      "the RADECSYS keyword is deprecated, use RADESYSa. [astropy.wcs.wcs]\n",
      "WARNING: FITSFixedWarning: RADECSYS= 'FK5 ' / Equatorial system reference \n",
      "the RADECSYS keyword is deprecated, use RADESYSa. [astropy.wcs.wcs]\n",
      "WARNING: FITSFixedWarning: RADECSYS= 'FK5 ' / Equatorial system reference \n",
      "the RADECSYS keyword is deprecated, use RADESYSa. [astropy.wcs.wcs]\n",
      "WARNING: FITSFixedWarning: RADECSYS= 'FK5 ' / Equatorial system reference \n",
      "the RADECSYS keyword is deprecated, use RADESYSa. [astropy.wcs.wcs]\n",
      "WARNING: FITSFixedWarning: RADECSYS= 'FK5 ' / Equatorial system reference \n",
      "the RADECSYS keyword is deprecated, use RADESYSa. [astropy.wcs.wcs]\n",
      "WARNING: FITSFixedWarning: RADECSYS= 'FK5 ' / Equatorial system reference \n",
      "the RADECSYS keyword is deprecated, use RADESYSa. [astropy.wcs.wcs]\n",
      "WARNING: FITSFixedWarning: RADECSYS= 'FK5 ' / Equatorial system reference \n",
      "the RADECSYS keyword is deprecated, use RADESYSa. [astropy.wcs.wcs]\n",
      "WARNING: FITSFixedWarning: RADECSYS= 'FK5 ' / Equatorial system reference \n",
      "the RADECSYS keyword is deprecated, use RADESYSa. [astropy.wcs.wcs]\n",
      "WARNING: FITSFixedWarning: RADECSYS= 'FK5 ' / Equatorial system reference \n",
      "the RADECSYS keyword is deprecated, use RADESYSa. [astropy.wcs.wcs]\n",
      "WARNING: FITSFixedWarning: RADECSYS= 'FK5 ' / Equatorial system reference \n",
      "the RADECSYS keyword is deprecated, use RADESYSa. [astropy.wcs.wcs]\n",
      "WARNING: FITSFixedWarning: RADECSYS= 'FK5 ' / Equatorial system reference \n",
      "the RADECSYS keyword is deprecated, use RADESYSa. [astropy.wcs.wcs]\n",
      "WARNING: FITSFixedWarning: RADECSYS= 'FK5 ' / Equatorial system reference \n",
      "the RADECSYS keyword is deprecated, use RADESYSa. [astropy.wcs.wcs]\n",
      "WARNING: FITSFixedWarning: RADECSYS= 'FK5 ' / Equatorial system reference \n",
      "the RADECSYS keyword is deprecated, use RADESYSa. [astropy.wcs.wcs]\n",
      "WARNING: FITSFixedWarning: RADECSYS= 'FK5 ' / Equatorial system reference \n",
      "the RADECSYS keyword is deprecated, use RADESYSa. [astropy.wcs.wcs]\n",
      "WARNING: FITSFixedWarning: RADECSYS= 'FK5 ' / Equatorial system reference \n",
      "the RADECSYS keyword is deprecated, use RADESYSa. [astropy.wcs.wcs]\n",
      "WARNING: FITSFixedWarning: RADECSYS= 'FK5 ' / Equatorial system reference \n",
      "the RADECSYS keyword is deprecated, use RADESYSa. [astropy.wcs.wcs]\n",
      "WARNING: FITSFixedWarning: RADECSYS= 'FK5 ' / Equatorial system reference \n",
      "the RADECSYS keyword is deprecated, use RADESYSa. [astropy.wcs.wcs]\n",
      "WARNING: FITSFixedWarning: RADECSYS= 'FK5 ' / Equatorial system reference \n",
      "the RADECSYS keyword is deprecated, use RADESYSa. [astropy.wcs.wcs]\n",
      "WARNING: FITSFixedWarning: RADECSYS= 'FK5 ' / Equatorial system reference \n",
      "the RADECSYS keyword is deprecated, use RADESYSa. [astropy.wcs.wcs]\n",
      "WARNING: FITSFixedWarning: RADECSYS= 'FK5 ' / Equatorial system reference \n",
      "the RADECSYS keyword is deprecated, use RADESYSa. [astropy.wcs.wcs]\n",
      "WARNING: FITSFixedWarning: RADECSYS= 'FK5 ' / Equatorial system reference \n",
      "the RADECSYS keyword is deprecated, use RADESYSa. [astropy.wcs.wcs]\n"
     ]
    },
    {
     "data": {
      "image/png": "[encoded data removed]",
      "text/plain": [
       "<Figure size 720x576 with 2 Axes>"
      ]
     },
     "metadata": {
      "needs_background": "light"
     },
     "output_type": "display_data"
    }
   ],
   "source": [
    "%run /raid2/dxb/xmm/analysis/COSMOS/sicong/scripts/mosaic.py"
   ]
  },
  {
   "cell_type": "markdown",
   "metadata": {},
   "source": [
    "### get solid angle"
   ]
  },
  {
   "cell_type": "code",
   "execution_count": 51,
   "metadata": {},
   "outputs": [],
   "source": [
    "def pixel_counter(image_file):\n",
    "    \"\"\"\n",
    "    This function count all the nonzero pixels in an image file\n",
    "    \"\"\"\n",
    "    with fits.open(image_file) as hdu:\n",
    "        data = hdu[0].data\n",
    "        x = np.count_nonzero(data)\n",
    "    return x"
   ]
  },
  {
   "cell_type": "code",
   "execution_count": 56,
   "metadata": {},
   "outputs": [],
   "source": [
    "def pixel_to_sr(pixels):\n",
    "    \"\"\"\n",
    "    This function convert pixels to solid angles\n",
    "    \"\"\"\n",
    "#     with fits.open(image_file) as hdu:\n",
    "#         header = hdu[0].header\n",
    "#         size = float(header['CDELT2'])\n",
    "    size = 6.94444444E-04\n",
    "    deg2 = pixels*size**2\n",
    "    factor = 3282.8\n",
    "    sr = deg2 / factor\n",
    "    return sr"
   ]
  },
  {
   "cell_type": "code",
   "execution_count": 75,
   "metadata": {
    "scrolled": true
   },
   "outputs": [
    {
     "data": {
      "text/plain": [
       "(4003538, 0.0005881316420821997)"
      ]
     },
     "execution_count": 75,
     "metadata": {},
     "output_type": "execute_result"
    }
   ],
   "source": [
    "#image_file = '/raid2/dxb/xmm/analysis/COSMOS/sicong/xspec/phase3/stacked-pnS005-back-im-sky-400-7200-full.fits'\n",
    "image_file = '/raid2/dxb/xmm/analysis/COSMOS/sicong/xspec/phase3/mosaic_int.fits'\n",
    "x = pixel_counter(image_file)\n",
    "sr = pixel_to_sr(x)\n",
    "x,sr"
   ]
  },
  {
   "cell_type": "markdown",
   "metadata": {},
   "source": [
    "## get LHB parameters"
   ]
  },
  {
   "cell_type": "code",
   "execution_count": 76,
   "metadata": {},
   "outputs": [
    {
     "name": "stdout",
     "output_type": "stream",
     "text": [
      "temperature: 0.10160749673843383\n",
      "norm: 0.003495370790150868\n",
      "nh: 0.026\n"
     ]
    }
   ],
   "source": [
    "norm = 2451*em*sr\n",
    "print('temperature:',temperature)\n",
    "print('norm:',norm)\n",
    "print('nh: 0.026')"
   ]
  },
  {
   "cell_type": "markdown",
   "metadata": {},
   "source": [
    "## check if exposure is correct"
   ]
  },
  {
   "cell_type": "code",
   "execution_count": 67,
   "metadata": {},
   "outputs": [
    {
     "name": "stdout",
     "output_type": "stream",
     "text": [
      "762349.2\n"
     ]
    }
   ],
   "source": [
    "with fits.open(DIR+'final-grp.pi') as hdu:\n",
    "    print(hdu[1].header['EXPOSURE'])"
   ]
  },
  {
   "cell_type": "code",
   "execution_count": 69,
   "metadata": {},
   "outputs": [
    {
     "name": "stdout",
     "output_type": "stream",
     "text": [
      "762349.32\n"
     ]
    }
   ],
   "source": [
    "exps=[]\n",
    "for name in names:\n",
    "    with fits.open(DIR+f'{name}-pnS005-obj-os-full.pi') as hdu:\n",
    "        exps.append(float(hdu[1].header['EXPOSURE']))\n",
    "print(sum(exps))"
   ]
  },
  {
   "cell_type": "markdown",
   "metadata": {},
   "source": [
    "## check arf"
   ]
  },
  {
   "cell_type": "code",
   "execution_count": 84,
   "metadata": {},
   "outputs": [
    {
     "data": {
      "text/html": [
       "<div>\n",
       "<style scoped>\n",
       "    .dataframe tbody tr th:only-of-type {\n",
       "        vertical-align: middle;\n",
       "    }\n",
       "\n",
       "    .dataframe tbody tr th {\n",
       "        vertical-align: top;\n",
       "    }\n",
       "\n",
       "    .dataframe thead th {\n",
       "        text-align: right;\n",
       "    }\n",
       "</style>\n",
       "<table border=\"1\" class=\"dataframe\">\n",
       "  <thead>\n",
       "    <tr style=\"text-align: right;\">\n",
       "      <th></th>\n",
       "      <th>combined</th>\n",
       "      <th>0203360101</th>\n",
       "      <th>x_hi</th>\n",
       "      <th>x_lo</th>\n",
       "      <th>x</th>\n",
       "    </tr>\n",
       "  </thead>\n",
       "  <tbody>\n",
       "    <tr>\n",
       "      <th>0</th>\n",
       "      <td>9.601891</td>\n",
       "      <td>9.694709</td>\n",
       "      <td>0.051</td>\n",
       "      <td>0.050</td>\n",
       "      <td>0.0505</td>\n",
       "    </tr>\n",
       "    <tr>\n",
       "      <th>1</th>\n",
       "      <td>18.530018</td>\n",
       "      <td>18.709139</td>\n",
       "      <td>0.052</td>\n",
       "      <td>0.051</td>\n",
       "      <td>0.0515</td>\n",
       "    </tr>\n",
       "    <tr>\n",
       "      <th>2</th>\n",
       "      <td>32.209808</td>\n",
       "      <td>32.521172</td>\n",
       "      <td>0.053</td>\n",
       "      <td>0.052</td>\n",
       "      <td>0.0525</td>\n",
       "    </tr>\n",
       "    <tr>\n",
       "      <th>3</th>\n",
       "      <td>47.696869</td>\n",
       "      <td>48.157932</td>\n",
       "      <td>0.054</td>\n",
       "      <td>0.053</td>\n",
       "      <td>0.0535</td>\n",
       "    </tr>\n",
       "    <tr>\n",
       "      <th>4</th>\n",
       "      <td>61.745911</td>\n",
       "      <td>62.342785</td>\n",
       "      <td>0.055</td>\n",
       "      <td>0.054</td>\n",
       "      <td>0.0545</td>\n",
       "    </tr>\n",
       "  </tbody>\n",
       "</table>\n",
       "</div>"
      ],
      "text/plain": [
       "    combined  0203360101   x_hi   x_lo       x\n",
       "0   9.601891    9.694709  0.051  0.050  0.0505\n",
       "1  18.530018   18.709139  0.052  0.051  0.0515\n",
       "2  32.209808   32.521172  0.053  0.052  0.0525\n",
       "3  47.696869   48.157932  0.054  0.053  0.0535\n",
       "4  61.745911   62.342785  0.055  0.054  0.0545"
      ]
     },
     "execution_count": 84,
     "metadata": {},
     "output_type": "execute_result"
    }
   ],
   "source": [
    "df = pd.DataFrame()\n",
    "with fits.open(DIR+'final.arf') as hdu:\n",
    "    data=hdu[1].data['SPECRESP']\n",
    "    hi = hdu[1].data['ENERG_HI']\n",
    "    low = hdu[1].data['ENERG_LO']\n",
    "\n",
    "with fits.open(DIR+'0203360101-pnS005-full.arf') as hdu:\n",
    "    data1=hdu[1].data['SPECRESP']\n",
    "    \n",
    "df['combined'] = data\n",
    "df['0203360101'] = data1\n",
    "df['x_hi'] = hi\n",
    "df['x_lo'] = low\n",
    "df['x'] = 0.5*(df['x_hi']+df['x_lo'])\n",
    "df.head()"
   ]
  },
  {
   "cell_type": "code",
   "execution_count": 85,
   "metadata": {},
   "outputs": [
    {
     "data": {
      "text/plain": [
       "[Text(0, 0.5, '$cm^2$'), Text(0.5, 0, 'energy'), Text(0.5, 1.0, 'ARF plot')]"
      ]
     },
     "execution_count": 85,
     "metadata": {},
     "output_type": "execute_result"
    },
    {
     "data": {
      "image/png": "[encoded data removed]",
      "text/plain": [
       "<Figure size 432x288 with 1 Axes>"
      ]
     },
     "metadata": {
      "needs_background": "light"
     },
     "output_type": "display_data"
    }
   ],
   "source": [
    "ax=df.plot(x='x',y=['combined','0203360101'])\n",
    "ax.set(xlabel='energy', ylabel='$cm^2$',\n",
    "       title='ARF plot')"
   ]
  },
  {
   "cell_type": "markdown",
   "metadata": {},
   "source": [
    "# Issues with Line Unit"
   ]
  },
  {
   "cell_type": "markdown",
   "metadata": {},
   "source": [
    "__VARIABLES__:<br>\n",
    "$C_i$: Counts for each pointing<br>\n",
    "$C$: Total Counts for all pointings<br>\n",
    "$t_i$: Exposure Time for each pointing<br>\n",
    "$t$: Total Exposure Time for all pointings<br>\n",
    "$R_i$: Count Rate for each pointing<br>\n",
    "$R$: Total Count Rate for all pointings<br>\n",
    "$\\Omega_i$: Solid Angle in sr for each pointing<br>\n",
    "$n$: Number of pointings<br>\n",
    "$LU_i$: Line Unit in $counts/cm^2/s/sr/keV$ for each pointing<br>\n",
    "\n",
    "__ASSUMPTIONS__:\n",
    "- RMFs and ARFs are the same for all pointings, so counts in channels can be converted to count/keV in the same manner.\n",
    "- Redefine $LU_i$ as Line Unit in $counts/cm^2/s/sr$ for each pointing\n",
    "\n",
    "## Multiple Pointings for a Single Field (CDFS)\n",
    "The Total Count Rate can be defined as such:\n",
    "\\begin{equation*}\n",
    "R = \\frac{\\sum_{i=1}^{n}C_i}{\\sum_{i=1}^{n}t_i}\n",
    "  = \\sum_{i=1}^{n}\\frac{C_i}{t_i}\\times\\frac{t_i}{t}\n",
    "  = \\sum_{i=1}^{n}R_i\\times\\frac{t_i}{t}\n",
    "\\end{equation*}\n",
    "The Total Line Unit derived from Stacked Spectrum can be defined as:\n",
    "\\begin{equation*}\n",
    "LU = \\frac{\\sum_{i=1}^{n}C_i}{\\sum_{i=1}^{n}t_i\\times\\bar{\\Omega}}\n",
    "   = \\frac{C}{t\\times\\bar{\\Omega}}\n",
    "\\end{equation*}\n",
    "The Total Line Unit should also be a weighted average of individual Line Unit from each pointing:\n",
    "\\begin{equation*}\n",
    "LU = \\sum_{i=1}^{n}LU_i \\times w_i\n",
    "\\end{equation*}\n",
    "If we define the weight $w_i$ as \n",
    "\\begin{equation*}\n",
    "w_i = \\frac{t_i}{t}\n",
    "\\end{equation*}\n",
    "And in an ideal situation where solid angle for each pointing is roguhly the same:\n",
    "\\begin{equation*}\n",
    "\\Omega_i \\approx \\bar{\\Omega}\n",
    "\\end{equation*}\n",
    "we have:\n",
    "\\begin{equation*}\n",
    "LU = \\sum_{i=1}^{n}LU_i \\times w_i\n",
    "   = \\sum_{i=1}^{n}\\frac{C_i}{t_i\\Omega_i}\\times\\frac{t_i}{t}\n",
    "   = \\frac{1}{t}\\times\\sum_{i=1}^{n}\\frac{C_i}{\\Omega_i}\n",
    "   \\approx \\frac{C}{t\\times\\bar{\\Omega}}\n",
    "\\end{equation*}\n",
    "\n",
    "## Multiple Pointings for an Extended Field (COSMOS)\n",
    "If we define the weight $w_i$ as \n",
    "\\begin{equation*}\n",
    "w_i = \\frac{t_i}{t}\n",
    "\\end{equation*}\n",
    "We still have:\n",
    "\\begin{equation*}\n",
    "LU = \\sum_{i=1}^{n}LU_i \\times w_i\n",
    "   = \\sum_{i=1}^{n}\\frac{C_i}{t_i\\Omega_i}\\times\\frac{t_i}{t}\n",
    "   = \\frac{1}{t}\\times\\sum_{i=1}^{n}\\frac{C_i}{\\Omega_i}\n",
    "   \\approx \\frac{C}{t\\times\\bar{\\Omega}}\n",
    "\\end{equation*}"
   ]
  },
  {
   "cell_type": "markdown",
   "metadata": {},
   "source": [
    "# Compare results with individual pointings"
   ]
  },
  {
   "cell_type": "code",
   "execution_count": 169,
   "metadata": {},
   "outputs": [
    {
     "data": {
      "text/plain": [
       "array([14.44706386, 17.95519212, 17.33688527, 10.69156913,  9.80273467,\n",
       "       12.26037534, 17.98241774, 23.95091896, 16.42473272, 13.18239817,\n",
       "       14.5471519 , 15.09663296, 15.5829219 , 17.99204263, 19.03781154,\n",
       "       16.22148163, 21.86896922, 10.34735629, 16.18850237, 29.78485083,\n",
       "        8.02693564, 31.68383646, 22.79070018, 17.66965374, 40.79889635,\n",
       "       11.5518014 , 13.1004617 , 17.12342725, 15.69944195, 14.39432885,\n",
       "       10.85231526, 15.09711374, 14.10446987, 11.50390418, 12.37239454,\n",
       "       15.20480691, 17.87990101, 17.26527997, 15.23663814, 13.22103322,\n",
       "       14.57358907, 10.3208172 , 16.45358649, 11.55642009, 16.7142412 ,\n",
       "       16.06803139, 10.62416529, 16.49953817])"
      ]
     },
     "execution_count": 169,
     "metadata": {},
     "output_type": "execute_result"
    }
   ],
   "source": [
    "em=0.002412268193438649\n",
    "ind_result = '/raid2/dxb/xmm/analysis/COSMOS/sicong/xspec/result_2gas.txt'\n",
    "nums = [line.strip() for line in open(ind_result) if line.startswith('0')]\n",
    "norms = [float(line.split()[4]) for line in open(ind_result) if '4    1' in line]\n",
    "norms = np.array(norms)\n",
    "pnorms = [float(line.split()[4]) for line in open(ind_result) if '17    6' in line] \n",
    "#pnorms = [float(line.split()[4]) for line in open(ind_result) if '15    5' in line]\n",
    "pnorms = np.array(pnorms)\n",
    "solid_angles=norms / (em*2451)\n",
    "pnorms_sr = pnorms / solid_angles\n",
    "exps=[]\n",
    "for num in nums:\n",
    "    with fits.open(f'/raid2/dxb/xmm/analysis/COSMOS/sicong/xspec/{num}-pnS005-obj-os-full.pi') as hdu:\n",
    "        exps.append(float(hdu[1].header['EXPOSURE']))\n",
    "exps = np.array(exps)\n",
    "w_i = exps/np.sum(exps)\n",
    "pnorms_sr\n",
    "#print(f'Powerlaw Norm for 0203360101 is {p} photons/keV/cm2/s/sr')"
   ]
  },
  {
   "cell_type": "code",
   "execution_count": 170,
   "metadata": {},
   "outputs": [
    {
     "data": {
      "image/png": "[encoded data removed]",
      "text/plain": [
       "<Figure size 432x288 with 1 Axes>"
      ]
     },
     "metadata": {
      "needs_background": "light"
     },
     "output_type": "display_data"
    }
   ],
   "source": [
    "plt = sns.distplot(a=pnorms_sr,axlabel='powerlaw norm in photons/keV/cm2/s/sr',kde=False,color='blue',bins=10)\n",
    "plt.text(25,12,f'$\\mu={{{np.average(pnorms_sr):.3f}}}, \\sigma={{{np.std(pnorms_sr):.3f}}}$');"
   ]
  },
  {
   "cell_type": "code",
   "execution_count": 171,
   "metadata": {},
   "outputs": [
    {
     "name": "stdout",
     "output_type": "stream",
     "text": [
      "Powerlaw Norm for whole COSMOS field is 11.408277111096726 photons/keV/cm2/s/sr\n"
     ]
    }
   ],
   "source": [
    "#sr=0.00059\n",
    "solid_angle = np.average(solid_angles)\n",
    "pnorm=3.43666E-04\n",
    "p=pnorm/solid_angle\n",
    "print(f'Powerlaw Norm for whole COSMOS field is {p} photons/keV/cm2/s/sr')"
   ]
  },
  {
   "cell_type": "code",
   "execution_count": 172,
   "metadata": {},
   "outputs": [
    {
     "data": {
      "text/plain": [
       "15.767718993721838"
      ]
     },
     "execution_count": 172,
     "metadata": {},
     "output_type": "execute_result"
    }
   ],
   "source": [
    "LU = np.sum(pnorms_sr * w_i)\n",
    "LU"
   ]
  },
  {
   "cell_type": "code",
   "execution_count": 156,
   "metadata": {},
   "outputs": [
    {
     "data": {
      "text/plain": [
       "3.0124268253066822e-05"
      ]
     },
     "execution_count": 156,
     "metadata": {},
     "output_type": "execute_result"
    }
   ],
   "source": [
    "solid_angle"
   ]
  },
  {
   "cell_type": "code",
   "execution_count": 165,
   "metadata": {},
   "outputs": [
    {
     "data": {
      "text/plain": [
       "0.2981489848831641"
      ]
     },
     "execution_count": 165,
     "metadata": {},
     "output_type": "execute_result"
    }
   ],
   "source": [
    "8.98152E-06/solid_angle"
   ]
  },
  {
   "cell_type": "code",
   "execution_count": 167,
   "metadata": {},
   "outputs": [
    {
     "data": {
      "text/plain": [
       "0.03669964663415347"
      ]
     },
     "execution_count": 167,
     "metadata": {},
     "output_type": "execute_result"
    }
   ],
   "source": [
    "1.10555E-06/solid_angle"
   ]
  },
  {
   "cell_type": "code",
   "execution_count": 168,
   "metadata": {},
   "outputs": [
    {
     "data": {
      "text/plain": [
       "8.124028763963638"
      ]
     },
     "execution_count": 168,
     "metadata": {},
     "output_type": "execute_result"
    }
   ],
   "source": [
    "0.2981489848831641/0.03669964663415347"
   ]
  },
  {
   "cell_type": "code",
   "execution_count": null,
   "metadata": {},
   "outputs": [],
   "source": []
  }
 ],
 "metadata": {
  "kernelspec": {
   "display_name": "Python 3",
   "language": "python",
   "name": "python3"
  },
  "language_info": {
   "codemirror_mode": {
    "name": "ipython",
    "version": 3
   },
   "file_extension": ".py",
   "mimetype": "text/x-python",
   "name": "python",
   "nbconvert_exporter": "python",
   "pygments_lexer": "ipython3",
   "version": "3.8.3"
  },
  "toc": {
   "base_numbering": 1,
   "nav_menu": {},
   "number_sections": true,
   "sideBar": true,
   "skip_h1_title": false,
   "title_cell": "Table of Contents",
   "title_sidebar": "Contents",
   "toc_cell": false,
   "toc_position": {
    "height": "calc(100% - 180px)",
    "left": "10px",
    "top": "150px",
    "width": "319.333px"
   },
   "toc_section_display": true,
   "toc_window_display": true
  }
 },
 "nbformat": 4,
 "nbformat_minor": 4
}
